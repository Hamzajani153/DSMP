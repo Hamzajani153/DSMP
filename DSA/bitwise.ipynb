{
 "cells": [
  {
   "cell_type": "markdown",
   "metadata": {},
   "source": [
    "## Bitwise operator?\n",
    "\n",
    "And , OR , NOT , XOR"
   ]
  },
  {
   "cell_type": "code",
   "execution_count": 6,
   "metadata": {},
   "outputs": [
    {
     "name": "stdout",
     "output_type": "stream",
     "text": [
      "4\n",
      "6\n",
      "-5\n",
      "-7\n",
      "2\n",
      "8\n",
      "4\n",
      "38\n",
      "84\n"
     ]
    }
   ],
   "source": [
    "a = 4\n",
    "b = 6\n",
    "\n",
    "print(a & b)\n",
    "print(a | b)\n",
    "print(~ a)\n",
    "print(~ b)\n",
    "print(a ^ b)\n",
    "\n",
    "\n",
    "print(17 >> 1)\n",
    "print(17 >> 2)\n",
    "print(19 << 1)\n",
    "print(21 << 2)\n",
    "\n"
   ]
  },
  {
   "cell_type": "markdown",
   "metadata": {},
   "source": [
    "Membership operator"
   ]
  },
  {
   "cell_type": "code",
   "execution_count": 9,
   "metadata": {},
   "outputs": [
    {
     "name": "stdout",
     "output_type": "stream",
     "text": [
      "True\n",
      "False\n"
     ]
    }
   ],
   "source": [
    "# in or not in \n",
    "\n",
    "a = [1, 2, 3, 4, 5]\n",
    "print(3 in a)\n",
    "print(\"L\" not in \"Islamabad\")"
   ]
  },
  {
   "cell_type": "code",
   "execution_count": 20,
   "metadata": {},
   "outputs": [
    {
     "name": "stdout",
     "output_type": "stream",
     "text": [
      "9\n",
      "12\n"
     ]
    }
   ],
   "source": [
    "# find the sum of the 3 digit number enter by user ?\n",
    "\n",
    "\n",
    "num = 54\n",
    "# first approach \n",
    "\n",
    "a = num % 10\n",
    "num = num // 10\n",
    "\n",
    "c = num % 10\n",
    "num = num // 10\n",
    "\n",
    "sum1 = a + c \n",
    "print(sum1)\n",
    "\n",
    "\n",
    "\n",
    "# second approach \n",
    "n = 345\n",
    "sum = 0\n",
    "while n > 0:\n",
    "    sum = n % 10 + sum\n",
    "    n = n // 10\n",
    "print(sum)"
   ]
  },
  {
   "cell_type": "markdown",
   "metadata": {},
   "source": [
    "### Modules in Python\n",
    "\n",
    "Math , keyword , constant , random"
   ]
  },
  {
   "cell_type": "code",
   "execution_count": 22,
   "metadata": {},
   "outputs": [
    {
     "name": "stdout",
     "output_type": "stream",
     "text": [
      "5.0\n",
      "8.0\n"
     ]
    }
   ],
   "source": [
    "# Math \n",
    "\n",
    "import math\n",
    "print(math.sqrt(25))\n",
    "print(math.pow(2, 3))"
   ]
  },
  {
   "cell_type": "code",
   "execution_count": 23,
   "metadata": {},
   "outputs": [
    {
     "name": "stdout",
     "output_type": "stream",
     "text": [
      "['False', 'None', 'True', 'and', 'as', 'assert', 'async', 'await', 'break', 'class', 'continue', 'def', 'del', 'elif', 'else', 'except', 'finally', 'for', 'from', 'global', 'if', 'import', 'in', 'is', 'lambda', 'nonlocal', 'not', 'or', 'pass', 'raise', 'return', 'try', 'while', 'with', 'yield']\n"
     ]
    }
   ],
   "source": [
    "# keyword \n",
    "\n",
    "import keyword\n",
    "print(keyword.kwlist)"
   ]
  },
  {
   "cell_type": "code",
   "execution_count": 24,
   "metadata": {},
   "outputs": [
    {
     "name": "stdout",
     "output_type": "stream",
     "text": [
      "22\n"
     ]
    }
   ],
   "source": [
    "# random\n",
    "\n",
    "import random\n",
    "print(random.randint(1, 100))"
   ]
  },
  {
   "cell_type": "code",
   "execution_count": 25,
   "metadata": {},
   "outputs": [
    {
     "name": "stdout",
     "output_type": "stream",
     "text": [
      "2024-09-23 19:53:52.200110\n"
     ]
    }
   ],
   "source": [
    "# datatime\n",
    "import datetime\n",
    "print(datetime.datetime.now())"
   ]
  },
  {
   "cell_type": "code",
   "execution_count": 2,
   "metadata": {},
   "outputs": [
    {
     "name": "stdout",
     "output_type": "stream",
     "text": [
      "Population in year 2020 is 11000.0\n",
      "Population in year 2019 is 12100.0\n",
      "Population in year 2018 is 13310.0\n",
      "Population in year 2017 is 14641.0\n",
      "Population in year 2016 is 16105.1\n",
      "Population in year 2015 is 17715.61\n",
      "Population in year 2014 is 19487.171000000002\n",
      "Population in year 2013 is 21435.888100000004\n",
      "Population in year 2012 is 23579.476910000005\n",
      "Population in year 2011 is 25937.424601000006\n"
     ]
    }
   ],
   "source": [
    "# Loops in python \n",
    "\n",
    "current_pop = 10000\n",
    "pop_increasing = 10\n",
    "\n",
    "# pop_end = last 10 year ? \n",
    "\n",
    "for i in range(10,0,-1):\n",
    "    current_pop = current_pop + (current_pop * pop_increasing / 100)\n",
    "    print(f\"Population in year {2010 + i} is {current_pop}\")"
   ]
  },
  {
   "cell_type": "code",
   "execution_count": 6,
   "metadata": {},
   "outputs": [
    {
     "name": "stdout",
     "output_type": "stream",
     "text": [
      "1\n",
      "3\n",
      "6\n",
      "10\n",
      "15\n"
     ]
    }
   ],
   "source": [
    "# sum of n number \n",
    "\n",
    "n = 5\n",
    "sum = 0\n",
    "\n",
    "for i in range(1, n+1):\n",
    "    sum = sum + i\n",
    "print(sum)"
   ]
  },
  {
   "cell_type": "markdown",
   "metadata": {},
   "source": [
    "Fibonacci Series "
   ]
  },
  {
   "cell_type": "code",
   "execution_count": 10,
   "metadata": {},
   "outputs": [
    {
     "name": "stdout",
     "output_type": "stream",
     "text": [
      "1\n",
      "2\n",
      "3\n",
      "5\n",
      "8\n",
      "13\n",
      "21\n",
      "34\n",
      "55\n",
      "89\n"
     ]
    }
   ],
   "source": [
    "# 0,1,1,2,3,5\n",
    "n = 10\n",
    "a = 0\n",
    "b = 1\n",
    "\n",
    "for i in range(1,n+1):\n",
    "    nextnum = a+b\n",
    "    print(nextnum)\n",
    "    a = b\n",
    "    b = nextnum"
   ]
  },
  {
   "cell_type": "code",
   "execution_count": 16,
   "metadata": {},
   "outputs": [
    {
     "name": "stdout",
     "output_type": "stream",
     "text": [
      "Prime number\n"
     ]
    }
   ],
   "source": [
    "n = 11\n",
    "\n",
    "for i in range(2 , n):\n",
    "    if n % i == 0:\n",
    "        print(\"Not a prime number\")\n",
    "        break\n",
    "else:\n",
    "    print(\"Prime number\")\n"
   ]
  },
  {
   "cell_type": "code",
   "execution_count": 17,
   "metadata": {},
   "outputs": [
    {
     "name": "stdout",
     "output_type": "stream",
     "text": [
      "15\n"
     ]
    }
   ],
   "source": [
    "class Solution:\n",
    "    def subtractProductAndSum(self, n: int) -> int:\n",
    "        \n",
    "        prod = 1\n",
    "        sum = 0\n",
    "        while(n>0):\n",
    "            digit = n % 10\n",
    "            sum += digit\n",
    "            prod *= digit \n",
    "            \n",
    "            n = n // 10\n",
    "\n",
    "        return prod - sum\n",
    "    \n"
   ]
  },
  {
   "cell_type": "markdown",
   "metadata": {},
   "source": [
    "number of n bits"
   ]
  },
  {
   "cell_type": "code",
   "execution_count": null,
   "metadata": {},
   "outputs": [],
   "source": [
    "class Solution:\n",
    "    def hammingWeight(self, n: int) -> int:\n",
    "        \n",
    "        count: int = 0\n",
    "        while( n != 0 ):\n",
    "\n",
    "            if(n&1):\n",
    "                count += 1\n",
    "            n = n >> 1\n",
    "        return count"
   ]
  },
  {
   "cell_type": "markdown",
   "metadata": {},
   "source": [
    "convert decimal into binary"
   ]
  },
  {
   "cell_type": "code",
   "execution_count": 9,
   "metadata": {},
   "outputs": [
    {
     "name": "stdout",
     "output_type": "stream",
     "text": [
      "110\n"
     ]
    }
   ],
   "source": [
    "num  = 6\n",
    "ans = 0\n",
    "i = 0\n",
    "\n",
    "while num != 0:\n",
    "\n",
    "    bit = num & 1\n",
    "\n",
    "    ans = (bit * pow(10,i))+ ans \n",
    "    num = num >> 1\n",
    "    i += 1\n",
    "\n",
    "print(ans)"
   ]
  },
  {
   "cell_type": "markdown",
   "metadata": {},
   "source": [
    "negative number into binary"
   ]
  },
  {
   "cell_type": "code",
   "execution_count": 18,
   "metadata": {},
   "outputs": [
    {
     "name": "stdout",
     "output_type": "stream",
     "text": [
      "6\n",
      "110\n",
      "-110\n"
     ]
    }
   ],
   "source": [
    "n = -6\n",
    "ans = 0\n",
    "i = 0\n",
    "if n < 0:\n",
    "    n = n * -1\n",
    "\n",
    "print(n)\n",
    "\n",
    "while (n != 0):\n",
    "\n",
    "    bit = n & 1\n",
    "    ans = (bit * pow(10,i)) + ans\n",
    "    n = n >> 1\n",
    "    i += 1\n",
    "print(ans)\n",
    "\n",
    "\n",
    "def comp(a):\n",
    "\n",
    "    \n",
    "\n"
   ]
  },
  {
   "cell_type": "markdown",
   "metadata": {},
   "source": [
    "Compliment of a given number"
   ]
  },
  {
   "cell_type": "code",
   "execution_count": null,
   "metadata": {},
   "outputs": [],
   "source": [
    "class Solution:\n",
    "    def bitwiseComplement(self, n: int) -> int:\n",
    "\n",
    "        if n == 0:\n",
    "            return 1\n",
    "\n",
    "        m : int = n\n",
    "        mask = 0\n",
    "        while (m != 0):\n",
    "            mask = (mask << 1) | 1\n",
    "            m = m >> 1\n",
    "        \n",
    "        ans: int = (~n) & mask\n",
    "\n",
    "        return ans\n",
    "        "
   ]
  },
  {
   "cell_type": "markdown",
   "metadata": {},
   "source": [
    "power of 2"
   ]
  },
  {
   "cell_type": "code",
   "execution_count": null,
   "metadata": {},
   "outputs": [],
   "source": [
    "class Solution:\n",
    "    def isPowerOfTwo(self, n: int) -> bool:\n",
    "        \n",
    "        for i in range(0,31):\n",
    "\n",
    "            ans:int = pow(2,i)\n",
    "\n",
    "            if ans == n:\n",
    "                return True\n",
    "        \n",
    "        return False"
   ]
  },
  {
   "cell_type": "code",
   "execution_count": 2,
   "metadata": {},
   "outputs": [],
   "source": [
    "class Solution:\n",
    "    def isPowerOfTwo(self, n: int) -> bool:\n",
    "        \n",
    "        ans: int = 0\n",
    "        \n",
    "        for i in range(1,31):\n",
    "\n",
    "            \n",
    "            if ans == n:\n",
    "                return True\n",
    "\n",
    "            if(ans < 2147483647/2):\n",
    "                ans = ans * 2\n",
    "\n",
    "        \n",
    "        return False"
   ]
  },
  {
   "cell_type": "code",
   "execution_count": 5,
   "metadata": {},
   "outputs": [
    {
     "name": "stdout",
     "output_type": "stream",
     "text": [
      "printing the array\n",
      "2\n",
      "3\n",
      "5\n",
      "Array printed successfully\n",
      "None\n"
     ]
    }
   ],
   "source": [
    "def print_array(arr: list[int] , size:int) -> None:\n",
    "    print(\"printing the array\")\n",
    "    for i in range(0,size):\n",
    "        print(arr[i])\n",
    "\n",
    "    print(\"Array printed successfully\")\n",
    "\n",
    "a = print_array([2,3,5] , 3)\n",
    "print(a)"
   ]
  },
  {
   "cell_type": "markdown",
   "metadata": {},
   "source": [
    "find the minimum and max in an array"
   ]
  },
  {
   "cell_type": "code",
   "execution_count": 12,
   "metadata": {},
   "outputs": [
    {
     "name": "stdout",
     "output_type": "stream",
     "text": [
      "max number in an array is 9\n"
     ]
    }
   ],
   "source": [
    "def get_max(arr:list , n:int) -> int:\n",
    "    max = arr[0]\n",
    "\n",
    "    for i in range(0,n):\n",
    "        if arr[i] > max:\n",
    "            max = arr[i]\n",
    "\n",
    "    return max\n",
    "\n",
    "\n",
    "\n",
    "\n",
    "if __name__ == \"__main__\":\n",
    "    \n",
    "    size = int(input(\"Enter the size of the array\"))\n",
    "\n",
    "    arr = []\n",
    "    for i in range(0,size):\n",
    "        arr.append(input(\"Enter the element\"))\n",
    "\n",
    "    print(f\"max number in an array is {get_max(arr , size)}\")\n"
   ]
  },
  {
   "cell_type": "code",
   "execution_count": 15,
   "metadata": {},
   "outputs": [
    {
     "name": "stdout",
     "output_type": "stream",
     "text": [
      "Max number in the array is 6\n"
     ]
    }
   ],
   "source": [
    "def get_max(arr: list, n: int) -> int:\n",
    "    max_value = arr[0]\n",
    "\n",
    "    for i in range(0, n):\n",
    "        if arr[i] > max_value:\n",
    "            max_value = arr[i]\n",
    "\n",
    "    return max_value\n",
    "\n",
    "\n",
    "if __name__ == \"__main__\":\n",
    "    size = int(input(\"Enter the size of the array: \"))\n",
    "\n",
    "    arr = input(\"Enter the elements of the array separated by spaces: \").split()\n",
    "    arr = [int(x) for x in arr]  # Convert each element to an integer\n",
    "\n",
    "    print(f\"Max number in the array is {get_max(arr, size)}\")"
   ]
  },
  {
   "cell_type": "markdown",
   "metadata": {},
   "source": [
    "sum of all element in an array"
   ]
  },
  {
   "cell_type": "code",
   "execution_count": 26,
   "metadata": {},
   "outputs": [
    {
     "name": "stdout",
     "output_type": "stream",
     "text": [
      "4\n",
      "1\n",
      "3\n",
      "6\n",
      "10\n"
     ]
    }
   ],
   "source": [
    "arr = [1,2,3,4]\n",
    "sum = 0\n",
    "for i in range(0 , len(arr)):\n",
    "    sum = sum + arr[i]\n",
    "    print(sum)"
   ]
  },
  {
   "cell_type": "markdown",
   "metadata": {},
   "source": [
    "### Linear Search"
   ]
  },
  {
   "cell_type": "code",
   "execution_count": 39,
   "metadata": {},
   "outputs": [
    {
     "name": "stdout",
     "output_type": "stream",
     "text": [
      "3\n",
      "Element found at index:  3\n"
     ]
    }
   ],
   "source": [
    "def search(a:list , size:int , key:int) -> int:\n",
    "    \n",
    "    for i in range(0,size):\n",
    "        if a[i] == key:\n",
    "            return i\n",
    "    return 0\n",
    "\n",
    "if __name__ == \"__main__\":\n",
    "    a = [1,2,3,4]\n",
    "    size = len(a)\n",
    "    key = 4\n",
    "\n",
    "    LS = search(a, size, key)\n",
    "    print(LS)\n",
    "    if LS == 0:\n",
    "        print(\"Element not found\")\n",
    "    else:\n",
    "        print(\"Element found at index: \", LS)"
   ]
  },
  {
   "cell_type": "markdown",
   "metadata": {},
   "source": [
    "Reverse an Array"
   ]
  },
  {
   "cell_type": "code",
   "execution_count": 45,
   "metadata": {},
   "outputs": [
    {
     "name": "stdout",
     "output_type": "stream",
     "text": [
      "Array reversed successfully [4, 3, 2, 1]\n"
     ]
    }
   ],
   "source": [
    "def reverse(arr:list , size:int) -> None:\n",
    "    s = 0\n",
    "    e = size - 1\n",
    "\n",
    "    while s <= e:\n",
    "\n",
    "        arr[s], arr[e] = arr[e], arr[s]\n",
    "        s += 1\n",
    "        e -= 1\n",
    "\n",
    "\n",
    "if __name__ == \"__main__\":\n",
    "    arr = [1,2,3,4]\n",
    "    size = len(arr)\n",
    "    reverse(arr, size)\n",
    "    print(\"Array reversed successfully\", arr)"
   ]
  },
  {
   "cell_type": "markdown",
   "metadata": {},
   "source": [
    "swap alternative"
   ]
  },
  {
   "cell_type": "code",
   "execution_count": 8,
   "metadata": {},
   "outputs": [
    {
     "name": "stdout",
     "output_type": "stream",
     "text": [
      "Array swapped successfully [34, 15, 32, 25, 64]\n"
     ]
    }
   ],
   "source": [
    "def swap_alt(arr:list , n:int)-> list:\n",
    "\n",
    "    for i in range(0 , n, 2):\n",
    "\n",
    "        if i + 1 < n:\n",
    "            arr[i], arr[i+1] = arr[i+1], arr[i]\n",
    "        \n",
    "    return arr\n",
    "    \n",
    "\n",
    "\n",
    "if __name__ == \"__main__\":\n",
    "    \n",
    "    arr2 = [1,3,2,7,11,8]\n",
    "    arr = [15,34,25,32,64]\n",
    "    size = len(arr)\n",
    "    alt = swap_alt(arr, size) \n",
    "    print(\"Array swapped successfully\", alt)"
   ]
  },
  {
   "cell_type": "markdown",
   "metadata": {},
   "source": [
    "Unique Elements"
   ]
  },
  {
   "cell_type": "code",
   "execution_count": 17,
   "metadata": {},
   "outputs": [
    {
     "name": "stdout",
     "output_type": "stream",
     "text": [
      "ans 0 1\n",
      "so the ans is = 1\n",
      "ans 1 3\n",
      "so the ans is = 2\n",
      "ans 2 4\n",
      "so the ans is = 6\n",
      "ans 6 1\n",
      "so the ans is = 7\n",
      "ans 7 3\n",
      "so the ans is = 4\n",
      "Unique element in the array is 4\n"
     ]
    }
   ],
   "source": [
    "def unique(arr:list, n:int) -> int:\n",
    "\n",
    "    ans =0\n",
    "\n",
    "    for i in range(0 , n):\n",
    "        \n",
    "        print(f\"ans\" , ans , arr[i] ) \n",
    "        ans = ans ^ arr[i]\n",
    "        print(f\"so the ans is =\",ans)\n",
    "    return ans\n",
    "\n",
    "if __name__ == \"__main__\":\n",
    "    arr = [1,3,4,1,3]\n",
    "    size = len(arr)\n",
    "    uni = unique(arr, size)\n",
    "    print(\"Unique element in the array is\", uni)"
   ]
  },
  {
   "cell_type": "code",
   "execution_count": 14,
   "metadata": {},
   "outputs": [
    {
     "name": "stdout",
     "output_type": "stream",
     "text": [
      "Count of each element in the array: {1: 2, 3: 2, 4: 1}\n"
     ]
    }
   ],
   "source": [
    "def count_elements(arr: list) -> dict:\n",
    "    count_dict = {}\n",
    "    for elem in arr:\n",
    "        if elem in count_dict:\n",
    "            count_dict[elem] += 1\n",
    "        else:\n",
    "            count_dict[elem] = 1\n",
    "    return count_dict\n",
    "\n",
    "if __name__ == \"__main__\":\n",
    "    arr = [1, 3, 4, 1, 3]\n",
    "    count_dict = count_elements(arr)\n",
    "    print(\"Count of each element in the array:\", count_dict)"
   ]
  },
  {
   "cell_type": "markdown",
   "metadata": {},
   "source": [
    "number of ocuurances"
   ]
  },
  {
   "cell_type": "code",
   "execution_count": 17,
   "metadata": {},
   "outputs": [
    {
     "name": "stdout",
     "output_type": "stream",
     "text": [
      "Count of each element in the array: {-3: 3, 0: 2, 1: 4, 10: 1}\n",
      "All counts in the array are unique.\n"
     ]
    }
   ],
   "source": [
    "def count_elements(arr: list) -> dict:\n",
    "    count_dict = {}\n",
    "    for elem in arr:\n",
    "        if elem in count_dict:\n",
    "            count_dict[elem] += 1\n",
    "        else:\n",
    "            count_dict[elem] = 1\n",
    "\n",
    "    # Check for duplicate values\n",
    "    values_seen = set()\n",
    "    for value in count_dict.values():\n",
    "        if value in values_seen:\n",
    "            return False, count_dict  # type: ignore # Return False if a duplicate value is found\n",
    "        values_seen.add(value)\n",
    "\n",
    "    return True, count_dict  # type: ignore # Return True if all values are unique\n",
    "\n",
    "if __name__ == \"__main__\":\n",
    "    # arr = [1, 3, 4, 1, 3]\n",
    "    arr = [-3,0,1,-3,1,1,1,-3,10,0]\n",
    "    is_unique, count_dict = count_elements(arr)\n",
    "    print(\"Count of each element in the array:\", count_dict)\n",
    "    if not is_unique:\n",
    "        print(\"There are duplicate counts in the array.\")\n",
    "    else:\n",
    "        print(\"All counts in the array are unique.\")"
   ]
  },
  {
   "cell_type": "markdown",
   "metadata": {},
   "source": [
    "Find Duplicate"
   ]
  },
  {
   "cell_type": "code",
   "execution_count": 16,
   "metadata": {},
   "outputs": [
    {
     "name": "stdout",
     "output_type": "stream",
     "text": [
      "ans 3 1\n",
      "so the ans is = 2\n",
      "ans 2 2\n",
      "so the ans is = 0\n",
      "ans 0 3\n",
      "so the ans is = 3\n",
      "ans 3 4\n",
      "so the ans is = 7\n",
      "ans 7 5\n",
      "so the ans is = 2\n"
     ]
    }
   ],
   "source": [
    "def find_duplicate(arr:list):\n",
    "\n",
    "    ans: int = 0\n",
    "\n",
    "    for i in range(0, len(arr)):\n",
    "        ans = ans ^ arr[i]\n",
    "        \n",
    "    #     print(f\"ans\" , ans , arr[i] ) \n",
    "    #     print(f\"so the ans is =\",ans)\n",
    "    # print(\"---------------------\")\n",
    "\n",
    "    # print(ans)\n",
    "\n",
    "    for i in range(1 , len(arr)):\n",
    "        \n",
    "        print(f\"ans\" , ans , i ) \n",
    "        ans = ans ^ i\n",
    "        # print(f\"ans\" , ans , i ) \n",
    "        print(f\"so the ans is =\",ans)\n",
    "\n",
    "    # return ans\n",
    "\n",
    "\n",
    "arr = [5,1,2,3,4,2]\n",
    "find_duplicate(arr)\n",
    "# print(\"Duplicate element in the array is\", find_duplicate(arr))\n"
   ]
  },
  {
   "cell_type": "markdown",
   "metadata": {},
   "source": [
    "Find all duplicate in an array"
   ]
  },
  {
   "cell_type": "code",
   "execution_count": 18,
   "metadata": {},
   "outputs": [
    {
     "name": "stdout",
     "output_type": "stream",
     "text": [
      "ans 0 1\n",
      "so the ans is = 1\n",
      "ans 1 2\n",
      "so the ans is = 3\n",
      "ans 3 3\n",
      "so the ans is = 0\n",
      "ans 0 4\n",
      "so the ans is = 4\n",
      "ans 4 5\n",
      "so the ans is = 1\n",
      "ans 1 6\n",
      "so the ans is = 7\n",
      "Duplicate element in the array is 7\n"
     ]
    }
   ],
   "source": [
    "arr = [5,1,2,3,4,2,3]\n",
    "\n",
    "def find_all_duplicate(arr:list) -> list:\n",
    "\n",
    "    \n",
    "\n",
    "    "
   ]
  },
  {
   "cell_type": "markdown",
   "metadata": {},
   "source": [
    "Intersection"
   ]
  },
  {
   "cell_type": "code",
   "execution_count": 19,
   "metadata": {},
   "outputs": [
    {
     "name": "stdout",
     "output_type": "stream",
     "text": [
      "[2, 2, 2, 3, 2, 3, 3, 3, 4, 4]\n"
     ]
    }
   ],
   "source": [
    "def intersection(arr1:list , arr2:list):\n",
    "\n",
    "    result = []\n",
    "\n",
    "    for i in range(0 , len(arr1)):\n",
    "        for j in range(0 , len(arr2)):\n",
    "            if arr1[i] < arr2[j]:\n",
    "                i += 1\n",
    "            elif arr1[i] == arr2[j]:\n",
    "                result.append(arr1[i])\n",
    "                i += 1\n",
    "                j += 1\n",
    "            elif arr1[i] > arr2[j]:\n",
    "                j += 1\n",
    "\n",
    "    return result         \n",
    "\n",
    "\n",
    "if __name__ == \"__main__\":\n",
    "    arr1 = [1,2,2,3,3,4]\n",
    "    arr2 = [2,2,3,4]\n",
    "\n",
    "    a = intersection(arr1 , arr2)\n",
    "    print(a)\n",
    "    "
   ]
  },
  {
   "cell_type": "code",
   "execution_count": 21,
   "metadata": {},
   "outputs": [
    {
     "name": "stdout",
     "output_type": "stream",
     "text": [
      "[2, 2, 3, 4]\n"
     ]
    }
   ],
   "source": [
    "def intersection(arr1:list , arr2:list):\n",
    "\n",
    "    result = []\n",
    "    i = 0\n",
    "    j = 0\n",
    "\n",
    "    while(i < len(arr1) and j < len(arr2)):\n",
    "        if arr1[i] < arr2[j]:\n",
    "            i += 1\n",
    "        elif arr1[i] == arr2[j]:\n",
    "            result.append(arr1[i])\n",
    "            i += 1\n",
    "            j += 1\n",
    "        else:\n",
    "            j += 1\n",
    "\n",
    "    return result         \n",
    "\n",
    "\n",
    "if __name__ == \"__main__\":\n",
    "    arr1 = [1,2,2,3,3,4]\n",
    "    arr2 = [2,2,3,4]\n",
    "\n",
    "    a = intersection(arr1 , arr2)\n",
    "    print(a)"
   ]
  },
  {
   "cell_type": "markdown",
   "metadata": {},
   "source": [
    "Pair sum"
   ]
  },
  {
   "cell_type": "code",
   "execution_count": 28,
   "metadata": {},
   "outputs": [
    {
     "name": "stdout",
     "output_type": "stream",
     "text": [
      "[[1, 4]]\n"
     ]
    }
   ],
   "source": [
    "def pair_sum(arr:list , sum :int):\n",
    "\n",
    "    i = 0\n",
    "    j = i+1\n",
    "    result = []\n",
    "\n",
    "    while(i < len(arr)-1 and j < len(arr)):\n",
    "\n",
    "        if arr[i] + arr[j] == sum:\n",
    "            result.append([arr[i], arr[j]])\n",
    "            i += 1\n",
    "            j += 1  \n",
    "        elif arr[i] + arr[j] != sum:\n",
    "            j += 1\n",
    "        else:\n",
    "            i += 1\n",
    "\n",
    "    return result\n",
    "\n",
    "\n",
    "\n",
    "if __name__ == \"__main__\":\n",
    "    arr = [1,2,3,4,5]\n",
    "    sum =5\n",
    "\n",
    "    a = pair_sum(arr , sum)\n",
    "    print(a)"
   ]
  },
  {
   "cell_type": "code",
   "execution_count": 25,
   "metadata": {},
   "outputs": [
    {
     "name": "stdout",
     "output_type": "stream",
     "text": [
      "[[1, 4], [2, 3]]\n"
     ]
    }
   ],
   "source": [
    "def pair_sum(arr:list , sum :int):\n",
    "\n",
    "    i = 0\n",
    "    j = 1\n",
    "    result = []\n",
    "\n",
    "    for i in range(0 , len(arr)-1):\n",
    "        for j in range(i+1 , len(arr)):\n",
    "\n",
    "            if arr[i] + arr[j] == sum:\n",
    "                result.append([arr[i], arr[j]])\n",
    "                i += 1\n",
    "                j += 1  \n",
    "            elif arr[i] + arr[j] != sum:\n",
    "                j += 1\n",
    "            else:\n",
    "                i += 1\n",
    "\n",
    "    return result\n",
    "\n",
    "\n",
    "\n",
    "if __name__ == \"__main__\":\n",
    "    arr = [1,2,3,4,5]\n",
    "    sum =5\n",
    "\n",
    "    a = pair_sum(arr , sum)\n",
    "    print(a)"
   ]
  },
  {
   "cell_type": "markdown",
   "metadata": {},
   "source": [
    "Binary Search "
   ]
  },
  {
   "cell_type": "code",
   "execution_count": null,
   "metadata": {},
   "outputs": [],
   "source": [
    "# # binary search only apply on monotonic function \n",
    "\n",
    "# Find middle element of the array \n",
    "\n",
    "# compare the middle element with the key \n",
    "    \n",
    "# == , return the index\n",
    "# < , search in the left half\n",
    "# > , search in the right half\n"
   ]
  },
  {
   "cell_type": "code",
   "execution_count": 25,
   "metadata": {},
   "outputs": [
    {
     "name": "stdout",
     "output_type": "stream",
     "text": [
      "[2, 3, 5, 11, 13, 17, 19]\n",
      "1\n"
     ]
    }
   ],
   "source": [
    "def binary_search(arr1:list , key:int) -> int:\n",
    "\n",
    "    arr = sorted(arr1)\n",
    "    print(arr)\n",
    "    s = 0\n",
    "    e = len(arr) - 1\n",
    "\n",
    "    while(s<=e):\n",
    "        mid = s+(e - s) // 2\n",
    "\n",
    "        if arr[mid] == key:\n",
    "            return mid\n",
    "        elif arr[mid] < key:\n",
    "            s = mid + 1\n",
    "        else:\n",
    "            e = mid - 1\n",
    "        \n",
    "    return -1\n",
    "\n",
    "if __name__ == \"__main__\":\n",
    "    arr = [5,11,13,17,19,2,3]\n",
    "    key = 3\n",
    "\n",
    "    a = binary_search(arr , key)\n",
    "    print(a)"
   ]
  }
 ],
 "metadata": {
  "kernelspec": {
   "display_name": "numberplate",
   "language": "python",
   "name": "python3"
  },
  "language_info": {
   "codemirror_mode": {
    "name": "ipython",
    "version": 3
   },
   "file_extension": ".py",
   "mimetype": "text/x-python",
   "name": "python",
   "nbconvert_exporter": "python",
   "pygments_lexer": "ipython3",
   "version": "3.11.6"
  }
 },
 "nbformat": 4,
 "nbformat_minor": 2
}
