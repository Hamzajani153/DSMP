{
 "cells": [
  {
   "cell_type": "markdown",
   "metadata": {},
   "source": [
    "## Bitwise operator?\n",
    "\n",
    "And , OR , NOT , XOR"
   ]
  },
  {
   "cell_type": "code",
   "execution_count": 6,
   "metadata": {},
   "outputs": [
    {
     "name": "stdout",
     "output_type": "stream",
     "text": [
      "4\n",
      "6\n",
      "-5\n",
      "-7\n",
      "2\n",
      "8\n",
      "4\n",
      "38\n",
      "84\n"
     ]
    }
   ],
   "source": [
    "a = 4\n",
    "b = 6\n",
    "\n",
    "print(a & b)\n",
    "print(a | b)\n",
    "print(~ a)\n",
    "print(~ b)\n",
    "print(a ^ b)\n",
    "\n",
    "\n",
    "print(17 >> 1)\n",
    "print(17 >> 2)\n",
    "print(19 << 1)\n",
    "print(21 << 2)\n",
    "\n"
   ]
  },
  {
   "cell_type": "markdown",
   "metadata": {},
   "source": [
    "Membership operator"
   ]
  },
  {
   "cell_type": "code",
   "execution_count": 9,
   "metadata": {},
   "outputs": [
    {
     "name": "stdout",
     "output_type": "stream",
     "text": [
      "True\n",
      "False\n"
     ]
    }
   ],
   "source": [
    "# in or not in \n",
    "\n",
    "a = [1, 2, 3, 4, 5]\n",
    "print(3 in a)\n",
    "print(\"L\" not in \"Islamabad\")"
   ]
  },
  {
   "cell_type": "code",
   "execution_count": 20,
   "metadata": {},
   "outputs": [
    {
     "name": "stdout",
     "output_type": "stream",
     "text": [
      "9\n",
      "12\n"
     ]
    }
   ],
   "source": [
    "# find the sum of the 3 digit number enter by user ?\n",
    "\n",
    "\n",
    "num = 54\n",
    "# first approach \n",
    "\n",
    "a = num % 10\n",
    "num = num // 10\n",
    "\n",
    "c = num % 10\n",
    "num = num // 10\n",
    "\n",
    "sum1 = a + c \n",
    "print(sum1)\n",
    "\n",
    "\n",
    "\n",
    "# second approach \n",
    "n = 345\n",
    "sum = 0\n",
    "while n > 0:\n",
    "    sum = n % 10 + sum\n",
    "    n = n // 10\n",
    "print(sum)"
   ]
  },
  {
   "cell_type": "markdown",
   "metadata": {},
   "source": [
    "### Modules in Python\n",
    "\n",
    "Math , keyword , constant , random"
   ]
  },
  {
   "cell_type": "code",
   "execution_count": 22,
   "metadata": {},
   "outputs": [
    {
     "name": "stdout",
     "output_type": "stream",
     "text": [
      "5.0\n",
      "8.0\n"
     ]
    }
   ],
   "source": [
    "# Math \n",
    "\n",
    "import math\n",
    "print(math.sqrt(25))\n",
    "print(math.pow(2, 3))"
   ]
  },
  {
   "cell_type": "code",
   "execution_count": 23,
   "metadata": {},
   "outputs": [
    {
     "name": "stdout",
     "output_type": "stream",
     "text": [
      "['False', 'None', 'True', 'and', 'as', 'assert', 'async', 'await', 'break', 'class', 'continue', 'def', 'del', 'elif', 'else', 'except', 'finally', 'for', 'from', 'global', 'if', 'import', 'in', 'is', 'lambda', 'nonlocal', 'not', 'or', 'pass', 'raise', 'return', 'try', 'while', 'with', 'yield']\n"
     ]
    }
   ],
   "source": [
    "# keyword \n",
    "\n",
    "import keyword\n",
    "print(keyword.kwlist)"
   ]
  },
  {
   "cell_type": "code",
   "execution_count": 24,
   "metadata": {},
   "outputs": [
    {
     "name": "stdout",
     "output_type": "stream",
     "text": [
      "22\n"
     ]
    }
   ],
   "source": [
    "# random\n",
    "\n",
    "import random\n",
    "print(random.randint(1, 100))"
   ]
  },
  {
   "cell_type": "code",
   "execution_count": 25,
   "metadata": {},
   "outputs": [
    {
     "name": "stdout",
     "output_type": "stream",
     "text": [
      "2024-09-23 19:53:52.200110\n"
     ]
    }
   ],
   "source": [
    "# datatime\n",
    "import datetime\n",
    "print(datetime.datetime.now())"
   ]
  },
  {
   "cell_type": "code",
   "execution_count": 2,
   "metadata": {},
   "outputs": [
    {
     "name": "stdout",
     "output_type": "stream",
     "text": [
      "Population in year 2020 is 11000.0\n",
      "Population in year 2019 is 12100.0\n",
      "Population in year 2018 is 13310.0\n",
      "Population in year 2017 is 14641.0\n",
      "Population in year 2016 is 16105.1\n",
      "Population in year 2015 is 17715.61\n",
      "Population in year 2014 is 19487.171000000002\n",
      "Population in year 2013 is 21435.888100000004\n",
      "Population in year 2012 is 23579.476910000005\n",
      "Population in year 2011 is 25937.424601000006\n"
     ]
    }
   ],
   "source": [
    "# Loops in python \n",
    "\n",
    "current_pop = 10000\n",
    "pop_increasing = 10\n",
    "\n",
    "# pop_end = last 10 year ? \n",
    "\n",
    "for i in range(10,0,-1):\n",
    "    current_pop = current_pop + (current_pop * pop_increasing / 100)\n",
    "    print(f\"Population in year {2010 + i} is {current_pop}\")"
   ]
  },
  {
   "cell_type": "code",
   "execution_count": 6,
   "metadata": {},
   "outputs": [
    {
     "name": "stdout",
     "output_type": "stream",
     "text": [
      "1\n",
      "3\n",
      "6\n",
      "10\n",
      "15\n"
     ]
    }
   ],
   "source": [
    "# sum of n number \n",
    "\n",
    "n = 5\n",
    "sum = 0\n",
    "\n",
    "for i in range(1, n+1):\n",
    "    sum = sum + i\n",
    "print(sum)"
   ]
  },
  {
   "cell_type": "markdown",
   "metadata": {},
   "source": [
    "Fibonacci Series "
   ]
  },
  {
   "cell_type": "code",
   "execution_count": 10,
   "metadata": {},
   "outputs": [
    {
     "name": "stdout",
     "output_type": "stream",
     "text": [
      "1\n",
      "2\n",
      "3\n",
      "5\n",
      "8\n",
      "13\n",
      "21\n",
      "34\n",
      "55\n",
      "89\n"
     ]
    }
   ],
   "source": [
    "# 0,1,1,2,3,5\n",
    "n = 10\n",
    "a = 0\n",
    "b = 1\n",
    "\n",
    "for i in range(1,n+1):\n",
    "    nextnum = a+b\n",
    "    print(nextnum)\n",
    "    a = b\n",
    "    b = nextnum"
   ]
  },
  {
   "cell_type": "code",
   "execution_count": 16,
   "metadata": {},
   "outputs": [
    {
     "name": "stdout",
     "output_type": "stream",
     "text": [
      "Prime number\n"
     ]
    }
   ],
   "source": [
    "n = 11\n",
    "\n",
    "for i in range(2 , n):\n",
    "    if n % i == 0:\n",
    "        print(\"Not a prime number\")\n",
    "        break\n",
    "else:\n",
    "    print(\"Prime number\")\n"
   ]
  },
  {
   "cell_type": "code",
   "execution_count": 17,
   "metadata": {},
   "outputs": [
    {
     "name": "stdout",
     "output_type": "stream",
     "text": [
      "15\n"
     ]
    }
   ],
   "source": [
    "class Solution:\n",
    "    def subtractProductAndSum(self, n: int) -> int:\n",
    "        \n",
    "        prod = 1\n",
    "        sum = 0\n",
    "        while(n>0):\n",
    "            digit = n % 10\n",
    "            sum += digit\n",
    "            prod *= digit \n",
    "            \n",
    "            n = n // 10\n",
    "\n",
    "        return prod - sum\n",
    "    \n"
   ]
  },
  {
   "cell_type": "markdown",
   "metadata": {},
   "source": [
    "number of n bits"
   ]
  },
  {
   "cell_type": "code",
   "execution_count": null,
   "metadata": {},
   "outputs": [],
   "source": [
    "class Solution:\n",
    "    def hammingWeight(self, n: int) -> int:\n",
    "        \n",
    "        count: int = 0\n",
    "        while( n != 0 ):\n",
    "\n",
    "            if(n&1):\n",
    "                count += 1\n",
    "            n = n >> 1\n",
    "        return count"
   ]
  },
  {
   "cell_type": "markdown",
   "metadata": {},
   "source": [
    "convert decimal into binary"
   ]
  },
  {
   "cell_type": "code",
   "execution_count": 9,
   "metadata": {},
   "outputs": [
    {
     "name": "stdout",
     "output_type": "stream",
     "text": [
      "110\n"
     ]
    }
   ],
   "source": [
    "num  = 6\n",
    "ans = 0\n",
    "i = 0\n",
    "\n",
    "while num != 0:\n",
    "\n",
    "    bit = num & 1\n",
    "\n",
    "    ans = (bit * pow(10,i))+ ans \n",
    "    num = num >> 1\n",
    "    i += 1\n",
    "\n",
    "print(ans)"
   ]
  },
  {
   "cell_type": "markdown",
   "metadata": {},
   "source": [
    "negative number into binary"
   ]
  },
  {
   "cell_type": "code",
   "execution_count": 18,
   "metadata": {},
   "outputs": [
    {
     "name": "stdout",
     "output_type": "stream",
     "text": [
      "6\n",
      "110\n",
      "-110\n"
     ]
    }
   ],
   "source": [
    "n = -6\n",
    "ans = 0\n",
    "i = 0\n",
    "if n < 0:\n",
    "    n = n * -1\n",
    "\n",
    "print(n)\n",
    "\n",
    "while (n != 0):\n",
    "\n",
    "    bit = n & 1\n",
    "    ans = (bit * pow(10,i)) + ans\n",
    "    n = n >> 1\n",
    "    i += 1\n",
    "print(ans)\n",
    "\n",
    "\n",
    "def comp(a):\n",
    "\n",
    "    \n",
    "\n"
   ]
  },
  {
   "cell_type": "markdown",
   "metadata": {},
   "source": [
    "Compliment of a given number"
   ]
  },
  {
   "cell_type": "code",
   "execution_count": null,
   "metadata": {},
   "outputs": [],
   "source": [
    "class Solution:\n",
    "    def bitwiseComplement(self, n: int) -> int:\n",
    "\n",
    "        if n == 0:\n",
    "            return 1\n",
    "\n",
    "        m : int = n\n",
    "        mask = 0\n",
    "        while (m != 0):\n",
    "            mask = (mask << 1) | 1\n",
    "            m = m >> 1\n",
    "        \n",
    "        ans: int = (~n) & mask\n",
    "\n",
    "        return ans\n",
    "        "
   ]
  },
  {
   "cell_type": "markdown",
   "metadata": {},
   "source": [
    "power of 2"
   ]
  },
  {
   "cell_type": "code",
   "execution_count": null,
   "metadata": {},
   "outputs": [],
   "source": [
    "class Solution:\n",
    "    def isPowerOfTwo(self, n: int) -> bool:\n",
    "        \n",
    "        for i in range(0,31):\n",
    "\n",
    "            ans:int = pow(2,i)\n",
    "\n",
    "            if ans == n:\n",
    "                return True\n",
    "        \n",
    "        return False"
   ]
  },
  {
   "cell_type": "code",
   "execution_count": null,
   "metadata": {},
   "outputs": [],
   "source": []
  }
 ],
 "metadata": {
  "kernelspec": {
   "display_name": "numberplate",
   "language": "python",
   "name": "python3"
  },
  "language_info": {
   "codemirror_mode": {
    "name": "ipython",
    "version": 3
   },
   "file_extension": ".py",
   "mimetype": "text/x-python",
   "name": "python",
   "nbconvert_exporter": "python",
   "pygments_lexer": "ipython3",
   "version": "3.11.6"
  }
 },
 "nbformat": 4,
 "nbformat_minor": 2
}
