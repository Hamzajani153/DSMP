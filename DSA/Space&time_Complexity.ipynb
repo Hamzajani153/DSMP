{
 "cells": [
  {
   "cell_type": "markdown",
   "metadata": {},
   "source": [
    "# Space and Time Complexity"
   ]
  },
  {
   "cell_type": "markdown",
   "metadata": {},
   "source": [
    "Constant time O(1)\n",
    "\n",
    "Linear time O(n)\n",
    "\n",
    "log time O(logn)\n",
    "\n",
    "quadratic time  O(n^2)\n",
    "\n",
    "cubic time O(n^3)"
   ]
  }
 ],
 "metadata": {
  "kernelspec": {
   "display_name": "numberplate",
   "language": "python",
   "name": "python3"
  },
  "language_info": {
   "name": "python",
   "version": "3.11.6"
  }
 },
 "nbformat": 4,
 "nbformat_minor": 2
}
