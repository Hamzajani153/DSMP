{
 "cells": [
  {
   "cell_type": "markdown",
   "metadata": {},
   "source": [
    "Tuple\n",
    "\n",
    "Tuple is a datastructure in which we can store multiple values of any datatypes once assign it \n",
    "cannot be change.\n",
    "\n",
    "Tuple = (2,3,4)\n",
    "\n",
    "Method use for tuples are:- count and index"
   ]
  },
  {
   "cell_type": "markdown",
   "metadata": {},
   "source": [
    "### Characteristics\n",
    "\n",
    "Ordered <br>\n",
    "Unchangeable <br>\n",
    "Allow duplicate <br>"
   ]
  },
  {
   "cell_type": "code",
   "execution_count": 32,
   "metadata": {},
   "outputs": [
    {
     "name": "stdout",
     "output_type": "stream",
     "text": [
      "(3, 45, 4)\n"
     ]
    }
   ],
   "source": [
    "tup = (3,4,5,4)\n",
    "tup = (3,45,4)\n",
    "print(tup)"
   ]
  },
  {
   "cell_type": "markdown",
   "metadata": {},
   "source": [
    "List\n",
    "\n",
    "List is another datastructure. List is variable length and their content can be modified in place.It is mutable \n",
    "\n",
    "Deep down into list vs array \n",
    "\n",
    "Memory management in arrary :- Array is store in continuous memory location it is fixed in size.\n",
    "List memory managment :- List is dynamic so it use referential array concept in this ref array concept the actual memory address store in list which locate the position of the value.\n",
    "Because due to referencing we store heterogenous datatype item in list.\n",
    "Basically we can store the address not the value that's why it is heterogenous.\n",
    "We can make the array of the double size every time new is enter.\n",
    "slow due to double every time new element enter and memory management not good."
   ]
  },
  {
   "cell_type": "markdown",
   "metadata": {},
   "source": [
    "### Characteristic of a List:-\n",
    "\n",
    "Ordered.\n",
    "\n",
    "Changeable / Mutable\n",
    "\n",
    "Heterogenous\n",
    "\n",
    "Duplicate\n",
    "\n",
    "Dynamic\n",
    "\n",
    "Nested\n",
    "\n",
    "item can be accessed\n",
    "\n",
    "contain any kind of object in python."
   ]
  },
  {
   "cell_type": "markdown",
   "metadata": {},
   "source": [
    "### List comprehension\n",
    "new_list = [expression for item in iterable if condition == True]"
   ]
  },
  {
   "cell_type": "code",
   "execution_count": 1,
   "metadata": {},
   "outputs": [
    {
     "data": {
      "text/plain": [
       "[1, 2, 3, 4, 5, 6, 7, 8, 9, 10]"
      ]
     },
     "execution_count": 1,
     "metadata": {},
     "output_type": "execute_result"
    }
   ],
   "source": [
    "L = [i for i in range(1,11)]"
   ]
  },
  {
   "cell_type": "code",
   "execution_count": 11,
   "metadata": {},
   "outputs": [
    {
     "name": "stdout",
     "output_type": "stream",
     "text": [
      "[5, 10, 15, 20, 25, 30, 35, 40, 45, 50]\n"
     ]
    }
   ],
   "source": [
    "l = [i for i in range(1,51) if i%5==0]\n",
    "print(l)"
   ]
  },
  {
   "cell_type": "code",
   "execution_count": 14,
   "metadata": {},
   "outputs": [
    {
     "data": {
      "text/plain": [
       "['apple', 'animal']"
      ]
     },
     "execution_count": 14,
     "metadata": {},
     "output_type": "execute_result"
    }
   ],
   "source": [
    "basket = ['apple', 'orange', 'animal', 'pear', 'orange', 'banana']\n",
    "my_fruit = ['apple', 'mange', 'animal' , 'kiwiw', 'banana']\n",
    "\n",
    "[fruit for fruit in my_fruit if fruit in basket and fruit.startswith('a')]"
   ]
  },
  {
   "cell_type": "code",
   "execution_count": 16,
   "metadata": {},
   "outputs": [
    {
     "name": "stdout",
     "output_type": "stream",
     "text": [
      "[3, 4, 5, 4, 3, 4, 5, 4]\n"
     ]
    }
   ],
   "source": [
    "l = [3,4,5,4]\n",
    "a = l.extend([3,4,5,4])\n",
    "print(l)"
   ]
  },
  {
   "cell_type": "code",
   "execution_count": 10,
   "metadata": {},
   "outputs": [
    {
     "data": {
      "text/plain": [
       "[[1, 2, 3], [2, 4, 6], [3, 6, 9]]"
      ]
     },
     "execution_count": 10,
     "metadata": {},
     "output_type": "execute_result"
    }
   ],
   "source": [
    "# Nested list \n",
    "[[i*j for i in range(1,4)] for j in range(1,4)]  "
   ]
  },
  {
   "cell_type": "code",
   "execution_count": 13,
   "metadata": {},
   "outputs": [
    {
     "data": {
      "text/plain": [
       "[(2, 2), (3, 3), (4, 4)]"
      ]
     },
     "execution_count": 13,
     "metadata": {},
     "output_type": "execute_result"
    }
   ],
   "source": [
    "# cartesian product\n",
    "l = [2,3,4,5]\n",
    "m = [2,3,4]\n",
    "list(zip(l,m))\n",
    "# [i+j for i,j in zip(l,m) if i==j]"
   ]
  },
  {
   "cell_type": "code",
   "execution_count": 8,
   "metadata": {},
   "outputs": [
    {
     "name": "stdout",
     "output_type": "stream",
     "text": [
      "['apple', 'animal']\n"
     ]
    }
   ],
   "source": [
    "basket=[\"apple\",\"orange\",\"animal\",\"pear\",\"orange\",\"banana\"]\n",
    "\n",
    "my_fruit=[\"almond\",\"mango\",\"kiwi\",\"banana\"]\n",
    "\n",
    "result=[]\n",
    "\n",
    "for i in range(len(basket)):\n",
    "    if basket[i].startswith(\"a\"):\n",
    "        result.append(basket[i])\n",
    "\n",
    "print(result)"
   ]
  },
  {
   "cell_type": "markdown",
   "metadata": {},
   "source": [
    "### Set\n",
    "\n",
    "A set is an unordered collection of an item. <br>\n",
    "UNIQUE <br>\n",
    "IMMUTABLE <br>\n",
    "How ever set itself is mutable. We can add or remove item from it. Means set itself is mutable but we cannot add or use any mutable inside it. <br> \n",
    "Perfrom methemetical operation using set.\n"
   ]
  },
  {
   "cell_type": "markdown",
   "metadata": {},
   "source": [
    "We cannot use index wise or item wise operation with set."
   ]
  },
  {
   "cell_type": "code",
   "execution_count": 37,
   "metadata": {},
   "outputs": [
    {
     "name": "stdout",
     "output_type": "stream",
     "text": [
      "{(4, 5), 3, 4, 5}\n"
     ]
    }
   ],
   "source": [
    "s = {3,4,5,5,(4,5)}\n",
    "print(s)"
   ]
  },
  {
   "cell_type": "markdown",
   "metadata": {},
   "source": [
    "### Frozenset\n",
    "\n",
    "Frozen set is just an immutable version of a python set object."
   ]
  },
  {
   "cell_type": "code",
   "execution_count": 40,
   "metadata": {},
   "outputs": [
    {
     "name": "stdout",
     "output_type": "stream",
     "text": [
      "<class 'frozenset'>\n"
     ]
    }
   ],
   "source": [
    "fr = frozenset([3,4,5,5,(4,5)])\n",
    "print(type(fr))"
   ]
  },
  {
   "cell_type": "markdown",
   "metadata": {},
   "source": [
    "## Dictionary\n",
    "\n",
    "Dictionary is a collection of key values, used to store data like a map , which unlike other datatype which hold only a single value as an element.\n",
    "\n",
    "In some other language it is known as map or associative array.\n",
    "\n",
    "### Characteristics\n",
    "\n",
    "Mutable <br>\n",
    "Indexing has no meanng <br>\n",
    "keys can't be duplicate <br>\n",
    "keys can't be mutable item."
   ]
  },
  {
   "cell_type": "code",
   "execution_count": 56,
   "metadata": {},
   "outputs": [
    {
     "name": "stdout",
     "output_type": "stream",
     "text": [
      "{1: 'apple', 2: 'orange', 3: 'banana', 'subject': {'dsa': 34, 'coal': 99, 'web': 89}}\n"
     ]
    }
   ],
   "source": [
    "dict = {1: 'apple', 2: 'orange', 3: 'banana','subject':{\"dsa\":34,\"coal\":99}}\n",
    "dict['subject'][\"web\"] = 89\n",
    "print(dict)\n"
   ]
  },
  {
   "cell_type": "code",
   "execution_count": 67,
   "metadata": {},
   "outputs": [
    {
     "name": "stdout",
     "output_type": "stream",
     "text": [
      "name\n",
      "gender\n",
      "age\n"
     ]
    }
   ],
   "source": [
    "# Loops in dictionary\n",
    "\n",
    "d = {'name': 'John','gender':'male','age': 23}\n",
    "for key in d:\n",
    "    print(key)\n",
    "\n",
    "\n"
   ]
  },
  {
   "cell_type": "markdown",
   "metadata": {},
   "source": [
    "### Dictionary comprehension\n",
    "\n",
    "{key:value for vars in iterable}\n"
   ]
  },
  {
   "cell_type": "code",
   "execution_count": 71,
   "metadata": {},
   "outputs": [
    {
     "data": {
      "text/plain": [
       "{'lahore': 340.0, 'tokyo': 797.3000000000001}"
      ]
     },
     "execution_count": 71,
     "metadata": {},
     "output_type": "execute_result"
    }
   ],
   "source": [
    "dict = {'lahore':1000 , 'tokyo' :2345}\n",
    "{key:value*0.34 for (key,value) in dict.items()}"
   ]
  },
  {
   "cell_type": "code",
   "execution_count": 72,
   "metadata": {},
   "outputs": [
    {
     "data": {
      "text/plain": [
       "{2: {1: 2, 2: 4, 3: 6, 4: 8, 5: 10, 6: 12, 7: 14, 8: 16, 9: 18, 10: 20},\n",
       " 3: {1: 3, 2: 6, 3: 9, 4: 12, 5: 15, 6: 18, 7: 21, 8: 24, 9: 27, 10: 30},\n",
       " 4: {1: 4, 2: 8, 3: 12, 4: 16, 5: 20, 6: 24, 7: 28, 8: 32, 9: 36, 10: 40}}"
      ]
     },
     "execution_count": 72,
     "metadata": {},
     "output_type": "execute_result"
    }
   ],
   "source": [
    "# Nested Dictionary \n",
    "\n",
    "# print table of number 2 to 4\n",
    "\n",
    "{i:{j:i*j for j in range(1,11)} for i in range(2,5)} "
   ]
  },
  {
   "cell_type": "markdown",
   "metadata": {},
   "source": [
    "# OOP"
   ]
  },
  {
   "cell_type": "markdown",
   "metadata": {},
   "source": [
    "Classes and Objects <br>\n",
    "classes are blueprint it calls whenever the object is create. <br>\n",
    "class variables , instance variables. <br>\n",
    "\n",
    "### Constructor \n",
    "\n",
    "Constructor is a special type of function whenever the object is created it executed.\n",
    "\n",
    "what is the need of constructor ? <br>\n",
    "Basically constructor in which we write configuration related code we cannot give authority to the user it execute when the obj is create so we give not give this functionality to the user.\n",
    "\n",
    "### Self\n",
    "\n",
    "one method call the another mehtod of same class than self is use. Bcz self is the only way which interact the one method to another.\n",
    "\n",
    "### Special Method (dunder method)\n",
    "\n",
    "Every special method has some unique functionality e.g __str__ it used whenever we print our object.\n"
   ]
  },
  {
   "cell_type": "markdown",
   "metadata": {},
   "source": [
    "## Reference Variable \n",
    "\n",
    "when we create the object than store into a varaible than this variable is called a Reference variable.<br>\n",
    "p = person() <br>\n",
    "p:- is the reference variable"
   ]
  },
  {
   "cell_type": "markdown",
   "metadata": {},
   "source": [
    "## Static Variable\n",
    "\n",
    "When we initialize variable inside class it is basically a instance variable which value is change on every time we create a object and assign their value but in static class the value is not changed e.g we implement an counter example in class when we increment the id of the person and if counter is initialize using instance variable than every time the object is created the every object point the address which is unique location. So increment is not work that's why we use static keyword in this case."
   ]
  },
  {
   "cell_type": "markdown",
   "metadata": {},
   "source": [
    "We use class name to initialize the static variable "
   ]
  },
  {
   "cell_type": "code",
   "execution_count": null,
   "metadata": {},
   "outputs": [],
   "source": [
    "class Person:\n",
    "    counter = 1\n",
    "    def __init__(self, name, age):\n",
    "        self.name = name\n",
    "        self.age = age\n",
    "        self.cid = Person.counter #Person.coutner static variaable\n",
    "        Person.counter += 1"
   ]
  },
  {
   "cell_type": "markdown",
   "metadata": {},
   "source": [
    "## Aggregation\n",
    "\n",
    "In aggregation you basically when you make the object of the class. You send the object to the another class object at the time of object creation."
   ]
  },
  {
   "cell_type": "code",
   "execution_count": 5,
   "metadata": {},
   "outputs": [
    {
     "name": "stdout",
     "output_type": "stream",
     "text": [
      "Ali 23 lahore gulberg\n"
     ]
    }
   ],
   "source": [
    "class Customer:\n",
    "    def __init__(self, name, age,Address):\n",
    "        self.name = name\n",
    "        self.age = age\n",
    "        self.Address = Address  # Address is object of Address class\n",
    "\n",
    "    def __str__(self):\n",
    "        return f\"{self.name} {self.age} {self.Address.city} {self.Address.street}\"\n",
    "    \n",
    "    def printt(self):\n",
    "        print(f\"{self.name} {self.age} {self.Address.city} {self.Address.street}\")\n",
    "\n",
    "class Address:\n",
    "    def __init__(self, city, street):\n",
    "        self.city = city\n",
    "        self.street = street\n",
    "\n",
    "a1 = Address(\"lahore\",\"gulberg\")\n",
    "p1 = Customer(\"Ali\", 23, a1)\n",
    "p1.printt()"
   ]
  },
  {
   "cell_type": "markdown",
   "metadata": {},
   "source": [
    "### Mehtod overriding\n",
    "\n",
    "Parent and child has same name method than those mehtod or construtor is called which class has object."
   ]
  },
  {
   "cell_type": "code",
   "execution_count": 9,
   "metadata": {},
   "outputs": [
    {
     "name": "stdout",
     "output_type": "stream",
     "text": [
      "Ali is buying\n"
     ]
    }
   ],
   "source": [
    "class Person:\n",
    "    def __init__(self, name, age):\n",
    "        self.name = name\n",
    "        self.age = age\n",
    "\n",
    "    def buy(self):\n",
    "        print(f\"{self.name} is buying\")\n",
    "\n",
    "class Customer(Person):\n",
    "\n",
    "    def buy(self):\n",
    "        print(f\"{self.name} is buying\")\n",
    "\n",
    "s = Customer(\"Ali\", 23)\n",
    "s.buy()"
   ]
  },
  {
   "cell_type": "markdown",
   "metadata": {},
   "source": [
    "## Super keyword \n",
    "\n",
    "In super we can access the parent methods inside the child method."
   ]
  },
  {
   "cell_type": "code",
   "execution_count": 10,
   "metadata": {},
   "outputs": [
    {
     "name": "stdout",
     "output_type": "stream",
     "text": [
      "inisde smart phone constructor\n"
     ]
    }
   ],
   "source": [
    "class Phone:\n",
    "    def __init__(self, brand, model, price):\n",
    "        self.brand = brand\n",
    "        self.model = model\n",
    "        self.price = price\n",
    "\n",
    "class SmartPhone(Phone):\n",
    "    def __init__(self, brand, model, price, ram, internal_memory):\n",
    "        super().__init__(brand, model, price)\n",
    "        self.ram = ram\n",
    "        self.internal_memory = internal_memory\n",
    "        print(\"inisde smart phone constructor\")\n",
    "\n",
    "s = SmartPhone(\"samsung\", \"s10\", 1000, 4, 64)"
   ]
  },
  {
   "cell_type": "markdown",
   "metadata": {},
   "source": [
    "## Inheritance\n",
    "\n",
    "Single level <br>\n",
    "Multilevel <br>\n",
    "Hierarchial <br>\n",
    "Multiple level    java doesnot allow this   <br>\n",
    "Hybrid (hierarchial , multiple , single)"
   ]
  },
  {
   "cell_type": "markdown",
   "metadata": {},
   "source": [
    "## Polymorphism \n",
    "\n",
    "Same thing behave differntly in different type of situation. <br>\n",
    "\n",
    "Method overriding :- Same method on d/f class<br> \n",
    "Mehtod overloading :- Same method in same class with d/f behaviour depend on inputs. Code is clean for redeability <br>\n",
    "Operator overloading :- same operator but depend on the input it behaviour change.\n"
   ]
  },
  {
   "cell_type": "markdown",
   "metadata": {},
   "source": [
    "## Abstraction\n",
    "\n",
    "Apply constrant to the lower level classes if it inherit the above one than it must apply this mehtod in this class also.\n",
    "Basically apply the restriction to the lower level class if it do that than it must implement that mehtod also."
   ]
  },
  {
   "cell_type": "code",
   "execution_count": 2,
   "metadata": {},
   "outputs": [],
   "source": [
    "from abc import ABC , abstractmethod\n",
    "class BankApp(ABC):\n",
    "    \n",
    "    def database(self):\n",
    "        print(\"database is connected\")\n",
    "\n",
    "    @abstractmethod\n",
    "    def security(self):\n",
    "        pass\n",
    "\n",
    "    @abstractmethod\n",
    "    def display(self):\n",
    "        pass"
   ]
  },
  {
   "cell_type": "code",
   "execution_count": 8,
   "metadata": {},
   "outputs": [],
   "source": [
    "class MobileApp(BankApp):\n",
    "    \n",
    "    def mobile_login(self):\n",
    "        print(\"mobile login\")\n",
    "\n",
    "    def security(self):\n",
    "        print(\"security is implemented\")\n",
    "\n",
    "    def display(self):\n",
    "        print(\"display is implemented\")"
   ]
  },
  {
   "cell_type": "code",
   "execution_count": 9,
   "metadata": {},
   "outputs": [
    {
     "name": "stdout",
     "output_type": "stream",
     "text": [
      "database is connected\n"
     ]
    }
   ],
   "source": [
    "c = MobileApp()\n",
    "c.database()"
   ]
  },
  {
   "cell_type": "markdown",
   "metadata": {},
   "source": [
    "We cannot make the object of the Abstract class. Their is at least one abstract method in abstract class so the class make an abstract class."
   ]
  },
  {
   "cell_type": "markdown",
   "metadata": {},
   "source": [
    "## File Handling\n",
    "\n",
    "In file handling we basically read or write a file in the memory.\n",
    "##### write a file 'w' \n",
    "When we write a program in the memory it open the file than write it. problem with that is it it is replace the last content which is write inside the document.\n",
    "##### Introducing the append mode 'a' \n",
    "In append mode it is append in the file not replace it.\n",
    "##### Read from a file 'r'.\n",
    "Read from a file we also add some flexibility to add the text as you want to pass the parameter inside funciton.<br>\n",
    "Their is also a readline by line character so if file is large memory will not consume much that's why readline is used."
   ]
  },
  {
   "cell_type": "code",
   "execution_count": null,
   "metadata": {},
   "outputs": [],
   "source": [
    "# Write a file \n",
    "f = open(\"file.txt\", \"w\")\n",
    "f.write(\"hello world\")\n",
    "#write line funciton is used to write line by line , multiline\n",
    "f.close()"
   ]
  },
  {
   "cell_type": "code",
   "execution_count": null,
   "metadata": {},
   "outputs": [],
   "source": [
    "# Append a file \n",
    "f = open(\"file.txt\", \"a\")\n",
    "f.write(\"hello world\")\n",
    "f.close()"
   ]
  },
  {
   "cell_type": "code",
   "execution_count": null,
   "metadata": {},
   "outputs": [],
   "source": [
    "# read a file\n",
    "f = open(\"file.txt\", \"r\")\n",
    "print(f.read())\n",
    "f.close()\n",
    "\n",
    "# read a file line by line\n",
    "while True:\n",
    "    data = f.readline()\n",
    "    if data == \"\":\n",
    "        break\n",
    "    else:\n",
    "        print(data,end=\"\")\n",
    "\n",
    "f.close()"
   ]
  },
  {
   "cell_type": "markdown",
   "metadata": {},
   "source": [
    "## Using Context Manager (With)\n",
    "\n",
    "It's a good idea to close a file after usage as it will free up the resources. <br>\n",
    "If we don't close it than garbage collector is close it. <br>\n",
    "with keyword is closes a file as soon as the usage is over."
   ]
  },
  {
   "cell_type": "code",
   "execution_count": null,
   "metadata": {},
   "outputs": [],
   "source": [
    "# With as write a file\n",
    "\n",
    "with open(\"file.txt\", \"r\") as f:\n",
    "    print(f.write(\"welcome\"))  "
   ]
  },
  {
   "cell_type": "code",
   "execution_count": null,
   "metadata": {},
   "outputs": [],
   "source": [
    "# with as read a file\n",
    "\n",
    "with open(\"file.txt\", \"r\") as f:\n",
    "    print(f.read())"
   ]
  },
  {
   "cell_type": "code",
   "execution_count": 14,
   "metadata": {},
   "outputs": [],
   "source": [
    "# Benefit to load a large file in memory \n",
    "\n",
    "l = ['hello world' for i in range(100)]\n",
    "\n",
    "with open(\"file.txt\", \"w\") as f:\n",
    "    f.writelines(l)"
   ]
  },
  {
   "cell_type": "code",
   "execution_count": 15,
   "metadata": {},
   "outputs": [
    {
     "name": "stdout",
     "output_type": "stream",
     "text": [
      "ello worldhello worldhello worldhello worldhello worldhello worldhello worldhello worldhello worldhe&&o worldhello worldhello worldhello worldhello worldhello worldhello worldhello worldhello worldhello&&orldhello worldhello worldhello worldhello worldhello worldhello worldhello worldhello worldhello wo&&dhello worldhello worldhello worldhello worldhello worldhello worldhello worldhello worldhello world&&"
     ]
    }
   ],
   "source": [
    "# load a large file in memory with chunk size \n",
    "\n",
    "with open(\"file.txt\", \"r\") as f:\n",
    "\n",
    "    chunk_size = 100\n",
    "\n",
    "    while len(f.read(chunk_size)) > 0:\n",
    "        print(f.read(chunk_size), end=\"&&\")\n",
    "        f.read(chunk_size)"
   ]
  },
  {
   "cell_type": "markdown",
   "metadata": {},
   "source": [
    "### Tell and Seek \n",
    "\n",
    "In tell we basically tell which line you are currently writing or reading. <br>\n",
    "Im Seek we basically go the line whatever which we choose to go."
   ]
  },
  {
   "cell_type": "code",
   "execution_count": 2,
   "metadata": {},
   "outputs": [
    {
     "name": "stdout",
     "output_type": "stream",
     "text": [
      "0\n",
      " worldhello worldhello worldhello worldhello worldhello worldhello worldhello worldhello worldhello worldhello worldhello worldhello worldhello worldhello worldhello worldhello worldhello worldhello worldhello worldhello worldhello worldhello worldhello worldhello worldhello worldhello worldhello worldhello worldhello worldhello worldhello worldhello worldhello worldhello worldhello worldhello worldhello worldhello worldhello worldhello worldhello worldhello worldhello worldhello worldhello worldhello worldhello worldhello worldhello worldhello worldhello worldhello worldhello worldhello worldhello worldhello worldhello worldhello worldhello worldhello worldhello worldhello worldhello worldhello worldhello worldhello worldhello worldhello worldhello worldhello worldhello worldhello worldhello worldhello worldhello worldhello worldhello worldhello worldhello worldhello worldhello worldhello worldhello worldhello worldhello worldhello worldhello worldhello worldhello worldhello worldhello worldhello worldhello worldhello worldhello worldhello worldhello worldhello worldhello world\n",
      "1100\n"
     ]
    }
   ],
   "source": [
    "# Tell and seek  use as write\n",
    "with open(\"file.txt\", \"r\") as f:\n",
    "    print(f.tell())\n",
    "    f.seek(5)\n",
    "    print(f.read())\n",
    "    print(f.tell())"
   ]
  },
  {
   "cell_type": "code",
   "execution_count": 11,
   "metadata": {},
   "outputs": [],
   "source": [
    "# Tell and seek use as read \n",
    "\n",
    "with open(\"simple.txt\", \"w\") as f:\n",
    "    f.write(\"hello world\")\n",
    "    f.seek(0)\n",
    "    f.write(\"welcome\")"
   ]
  },
  {
   "cell_type": "markdown",
   "metadata": {},
   "source": [
    "## Working with Binary File\n",
    "\n",
    "Problem with working in text mode. <br>\n",
    "\n",
    "Can't work with binary files like images. <br>\n",
    "Not good for other datatype like tuples/int/float ..."
   ]
  },
  {
   "cell_type": "code",
   "execution_count": 12,
   "metadata": {},
   "outputs": [],
   "source": [
    "# Working with binary file \n",
    "with open(\"unnamed.png\", \"rb\") as f:\n",
    "    with open(\"unnamed_copy.png\", \"wb\") as f2:\n",
    "        f2.write (f.read())"
   ]
  },
  {
   "cell_type": "code",
   "execution_count": 14,
   "metadata": {},
   "outputs": [],
   "source": [
    "with open(\"text2.txt\", 'w') as f:\n",
    "    f.write(str(5))"
   ]
  },
  {
   "cell_type": "markdown",
   "metadata": {},
   "source": [
    "Any data type if we store in the file than we convert it into a string bcz string is the only format which is store in the file. <br>\n",
    "To overcome this proces we use new Concept called."
   ]
  },
  {
   "cell_type": "markdown",
   "metadata": {},
   "source": [
    "Serialization and Deserialization:-\n",
    "\n",
    "Serialization :- Process of converting python datatype into json format. <br>\n",
    "Deserialization :- Process of converting json format into python datatype.\n"
   ]
  },
  {
   "cell_type": "code",
   "execution_count": 6,
   "metadata": {},
   "outputs": [],
   "source": [
    "# Serialization \n",
    "import json\n",
    "\n",
    "L = [1,2,3,4,5]\n",
    "with open(\"file.json\", \"w\") as f:\n",
    "    json.dump(L, f)\n",
    "\n"
   ]
  },
  {
   "cell_type": "code",
   "execution_count": 5,
   "metadata": {},
   "outputs": [],
   "source": [
    "d = {'name': 'Ali', 'age': 23}\n",
    "with open(\"file.json\", \"w\") as f:\n",
    "    json.dump(d, f,indent=4)"
   ]
  },
  {
   "cell_type": "code",
   "execution_count": 7,
   "metadata": {},
   "outputs": [
    {
     "name": "stdout",
     "output_type": "stream",
     "text": [
      "[1, 2, 3, 4, 5]\n",
      "<class 'list'>\n"
     ]
    }
   ],
   "source": [
    "# Deserialization \n",
    "\n",
    "import json\n",
    "\n",
    "with open(\"file.json\", \"r\") as f:\n",
    "    data = json.load(f)\n",
    "    print(data)\n",
    "    print(type(data))"
   ]
  },
  {
   "cell_type": "code",
   "execution_count": 8,
   "metadata": {},
   "outputs": [],
   "source": [
    "# Seraialization and Deserialization in tuple \n",
    "\n",
    "# Their is a some problem in tuple when we store tuple in json file it will be converted into list not tuple\n",
    "# So we  use another way to store tuple in json file\n",
    "\n",
    "import json \n",
    "with open(\"file.json\", \"w\") as f:\n",
    "    json.dump((1,2,3,4,5), f)\n",
    "    "
   ]
  },
  {
   "cell_type": "code",
   "execution_count": 13,
   "metadata": {},
   "outputs": [],
   "source": [
    "# Serialization of objects \n",
    "\n",
    "class Person:\n",
    "    def __init__(self, name, age):\n",
    "        self.name = name\n",
    "        self.age = age\n",
    "\n",
    "    def display_info(self):\n",
    "        print(f\"{self.name} {self.age}\")\n",
    "\n",
    "p = Person(\"Ali\", 23)"
   ]
  },
  {
   "cell_type": "code",
   "execution_count": 10,
   "metadata": {},
   "outputs": [],
   "source": [
    "import json \n",
    "\n",
    "def show_object(person):\n",
    "    if isinstance(person, Person):\n",
    "        return \"{} {}\".format(person.name, person.age)\n",
    "    \n",
    "with open(\"file.json\", \"w\") as f:\n",
    "    json.dump(p,f,default=show_object)"
   ]
  },
  {
   "cell_type": "code",
   "execution_count": 11,
   "metadata": {},
   "outputs": [
    {
     "name": "stdout",
     "output_type": "stream",
     "text": [
      "Ali 23\n",
      "<class 'str'>\n"
     ]
    }
   ],
   "source": [
    "# deserialization of object \n",
    "\n",
    "with open(\"file.json\", \"r\") as f:\n",
    "    data = json.load(f)\n",
    "    print(data)\n",
    "    print(type(data))"
   ]
  },
  {
   "cell_type": "markdown",
   "metadata": {},
   "source": [
    "Problem :- In serialization and deserialization \n",
    "\n",
    "Ksi objct to pick kro or go to another file and use it just like our built in data types.<br>\n",
    "\n",
    "Object to as it as pick kr ka dosri file ma kaise lak aja skta hn."
   ]
  },
  {
   "cell_type": "markdown",
   "metadata": {},
   "source": [
    "## pickling \n",
    "\n",
    "Picking is the process where by a Python object hierarchy is converted into a byte stream.<br>\n",
    "Unpickling is the inverse operation, where by a byte steram is converted back in to object.\n",
    "\n",
    "Pickling is basically solve the above problem."
   ]
  },
  {
   "cell_type": "code",
   "execution_count": 14,
   "metadata": {},
   "outputs": [],
   "source": [
    "import pickle\n",
    "\n",
    "with open(\"file.pkl\", \"wb\") as f:\n",
    "    pickle.dump(p, f) #p is object of person class"
   ]
  },
  {
   "cell_type": "code",
   "execution_count": 15,
   "metadata": {},
   "outputs": [
    {
     "name": "stdout",
     "output_type": "stream",
     "text": [
      "<__main__.Person object at 0x000002E5A9969610>\n",
      "<class '__main__.Person'>\n",
      "Ali 23\n"
     ]
    }
   ],
   "source": [
    "import pickle \n",
    "\n",
    "with open(\"file.pkl\", \"rb\") as f:\n",
    "    data = pickle.load(f)\n",
    "    print(type(data))\n",
    "\n",
    "p.display_info()"
   ]
  },
  {
   "cell_type": "markdown",
   "metadata": {},
   "source": [
    "##### Pickle vs json \n",
    "\n",
    "pickle let the user to store data in binary format. Json let the user data in a human readable \n",
    "text format."
   ]
  },
  {
   "cell_type": "markdown",
   "metadata": {},
   "source": [
    "## Error Handling\n",
    "\n",
    "Syntax error and Compile error .<br>\n",
    "1:- index error. <br>\n",
    "2:- module not found error. <br>\n",
    "3:- key error. <br>\n",
    "4:- Type error. <br>\n",
    "5:- Value error. <br>\n",
    "6:- Name error. <br>\n",
    "7:- Attribute error. <br> "
   ]
  },
  {
   "cell_type": "markdown",
   "metadata": {},
   "source": [
    "### Exception handling.\n",
    "\n",
    "We use try and except to catch the error during the execution time. It could be anything some logical error and other type of error which give you exception. <br>\n",
    "<b > imp info :-   </b>\n",
    "If we use any third party resources it is our duty to write a code in try catch block so their is more chance of error of another resouce thing. "
   ]
  },
  {
   "cell_type": "code",
   "execution_count": 1,
   "metadata": {},
   "outputs": [],
   "source": [
    "with open(\"file.txt\",'w') as f:\n",
    "    f.write(\"hello world\")"
   ]
  },
  {
   "cell_type": "code",
   "execution_count": 5,
   "metadata": {},
   "outputs": [
    {
     "name": "stdout",
     "output_type": "stream",
     "text": [
      "file not found\n"
     ]
    }
   ],
   "source": [
    "try:\n",
    "    with open(\"file1.txt\", \"r\") as f:\n",
    "        print(f.read())\n",
    "except:\n",
    "    print(\"file not found\")"
   ]
  },
  {
   "cell_type": "code",
   "execution_count": 8,
   "metadata": {},
   "outputs": [
    {
     "name": "stdout",
     "output_type": "stream",
     "text": [
      "hello world\n",
      "5\n",
      "2.5\n",
      "list index out of range\n"
     ]
    }
   ],
   "source": [
    "try:\n",
    "    m =5\n",
    "    with open(\"file.txt\", \"r\") as f:\n",
    "        print(f.read())\n",
    "    print (m)\n",
    "    print(5/2)\n",
    "    L = [1,2,3,4]\n",
    "    L[100]\n",
    "except FileNotFoundError:\n",
    "    print(\"file not found\")\n",
    "except ZeroDivisionError:\n",
    "    print(\"zero division error\")\n",
    "except Exception as e:\n",
    "    print(e)"
   ]
  },
  {
   "cell_type": "code",
   "execution_count": 9,
   "metadata": {},
   "outputs": [
    {
     "name": "stdout",
     "output_type": "stream",
     "text": [
      "hello world\n",
      "no exception\n",
      "finally block\n"
     ]
    }
   ],
   "source": [
    "# Else and finally \n",
    "\n",
    "try:\n",
    "    with open(\"file.txt\", \"r\") as f:\n",
    "        print(f.read())\n",
    "except FileNotFoundError:\n",
    "    print(\"file not found\")\n",
    "except ZeroDivisionError:\n",
    "    print(\"zero division error\")\n",
    "except Exception as e:\n",
    "    print(e)\n",
    "else:\n",
    "    print(\"no exception\")\n",
    "finally:\n",
    "    print(\"finally block\")\n",
    "\n"
   ]
  },
  {
   "cell_type": "code",
   "execution_count": 12,
   "metadata": {},
   "outputs": [
    {
     "name": "stdout",
     "output_type": "stream",
     "text": [
      "10000\n"
     ]
    }
   ],
   "source": [
    "# Raise Ecxeption \n",
    "\n",
    "class Bank:\n",
    "\n",
    "    def __init__(self, balance):\n",
    "        self.balance = balance\n",
    "\n",
    "    def withdraw(self, amount):\n",
    "        if amount > self.balance:\n",
    "            raise ValueError(\"Insufficient balance\")\n",
    "        if amount < 0:\n",
    "            raise ValueError(\"YOu entered negative amount\")\n",
    "        \n",
    "obj = Bank(10000)\n",
    "try:\n",
    "    obj.withdraw(100)\n",
    "except Exception as e:\n",
    "    print(e)\n",
    "else:\n",
    "    print(obj.balance)"
   ]
  },
  {
   "cell_type": "code",
   "execution_count": 13,
   "metadata": {},
   "outputs": [
    {
     "name": "stdout",
     "output_type": "stream",
     "text": [
      "10000\n"
     ]
    }
   ],
   "source": [
    "#### Custom Exception Class\n",
    "# If you create your own exception class than it should be inherited from Exception class.\n",
    "\n",
    "class MyException(Exception):\n",
    "    def __init__(self, message):\n",
    "        print(message)\n",
    "\n",
    "class bank:\n",
    "    def __init__(self, balance):\n",
    "        self.balance = balance\n",
    "\n",
    "    def withdraw(self, amount):\n",
    "        if amount > self.balance:\n",
    "            raise MyException(\"Insufficient balance\")\n",
    "        if amount < 0:\n",
    "            raise MyException(\"You entered negative amount\")\n",
    "        \n",
    "obj = bank(10000)\n",
    "try:\n",
    "    obj.withdraw(100)\n",
    "except Exception as e:\n",
    "    print(e)\n",
    "else:\n",
    "    print(obj.balance)"
   ]
  },
  {
   "cell_type": "markdown",
   "metadata": {},
   "source": [
    "#### Why we use custom Exception class. when their is simple classes present.\n",
    "\n",
    "Because when working with our own application we need some type of functionality to trigger so our application working on our need. <br>"
   ]
  },
  {
   "cell_type": "code",
   "execution_count": 16,
   "metadata": {},
   "outputs": [
    {
     "name": "stdout",
     "output_type": "stream",
     "text": [
      "logout\n",
      "db collection closed\n"
     ]
    }
   ],
   "source": [
    "# Google example to logout from all devices \n",
    "\n",
    "class SecurityError(Exception):\n",
    "    def __init__(self, message):\n",
    "        self.message = message\n",
    "\n",
    "    def logout(self):\n",
    "        print(\"logout\")\n",
    "\n",
    "class Google:\n",
    "    def __init__(self,name,email,password,devices):\n",
    "        self.name = name\n",
    "        self.email = email\n",
    "        self.password = password\n",
    "        self.devices = devices\n",
    "\n",
    "    def login(self,email,password,devices):\n",
    "        if devices != self.devices:\n",
    "            raise SecurityError(\"You are login from different device\")\n",
    "        if email == self.email and password == self.password:\n",
    "            print(\"Login successfully\")\n",
    "        else:\n",
    "            print(\"login error\")\n",
    "\n",
    "obj = Google(\"Ali\", \"dexent.hamza@gmail.com\" , \"1234\", \"iphone\")\n",
    "\n",
    "try:\n",
    "    obj.login(\"dexent.hamza@gmail.com\" , \"1234\", \"windows\")\n",
    "except SecurityError as e:\n",
    "    e.logout()\n",
    "else:\n",
    "    print(obj.name)\n",
    "finally:\n",
    "    print(\"db collection closed\")  \n",
    "\n",
    "        \n"
   ]
  }
 ],
 "metadata": {
  "kernelspec": {
   "display_name": "numberplate",
   "language": "python",
   "name": "python3"
  },
  "language_info": {
   "codemirror_mode": {
    "name": "ipython",
    "version": 3
   },
   "file_extension": ".py",
   "mimetype": "text/x-python",
   "name": "python",
   "nbconvert_exporter": "python",
   "pygments_lexer": "ipython3",
   "version": "3.11.6"
  }
 },
 "nbformat": 4,
 "nbformat_minor": 2
}
