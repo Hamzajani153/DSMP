{
 "cells": [
  {
   "cell_type": "markdown",
   "metadata": {},
   "source": [
    "Tuple\n",
    "\n",
    "Tuple is a datastructure in which we can store multiple values of any datatypes once assign it \n",
    "cannot be change.\n",
    "\n",
    "Tuple = (2,3,4)\n",
    "\n",
    "Method use for tuples are:- count and index"
   ]
  },
  {
   "cell_type": "markdown",
   "metadata": {},
   "source": [
    "### Characteristics\n",
    "\n",
    "Ordered <br>\n",
    "Unchangeable <br>\n",
    "Allow duplicate <br>"
   ]
  },
  {
   "cell_type": "code",
   "execution_count": 32,
   "metadata": {},
   "outputs": [
    {
     "name": "stdout",
     "output_type": "stream",
     "text": [
      "(3, 45, 4)\n"
     ]
    }
   ],
   "source": [
    "tup = (3,4,5,4)\n",
    "tup = (3,45,4)\n",
    "print(tup)"
   ]
  },
  {
   "cell_type": "markdown",
   "metadata": {},
   "source": [
    "List\n",
    "\n",
    "List is another datastructure. List is variable length and their content can be modified in place.It is mutable \n",
    "\n",
    "Deep down into list vs array \n",
    "\n",
    "Memory management in arrary :- Array is store in continuous memory location it is fixed in size.\n",
    "List memory managment :- List is dynamic so it use referential array concept in this ref array concept the actual memory address store in list which locate the position of the value.\n",
    "Because due to referencing we store heterogenous datatype item in list.\n",
    "Basically we can store the address not the value that's why it is heterogenous.\n",
    "We can make the array of the double size every time new is enter.\n",
    "slow due to double every time new element enter and memory management not good."
   ]
  },
  {
   "cell_type": "markdown",
   "metadata": {},
   "source": [
    "### Characteristic of a List:-\n",
    "\n",
    "Ordered.\n",
    "\n",
    "Changeable / Mutable\n",
    "\n",
    "Heterogenous\n",
    "\n",
    "Duplicate\n",
    "\n",
    "Dynamic\n",
    "\n",
    "Nested\n",
    "\n",
    "item can be accessed\n",
    "\n",
    "contain any kind of object in python."
   ]
  },
  {
   "cell_type": "markdown",
   "metadata": {},
   "source": [
    "### List comprehension\n",
    "new_list = [expression for item in iterable if condition == True]"
   ]
  },
  {
   "cell_type": "code",
   "execution_count": 1,
   "metadata": {},
   "outputs": [
    {
     "data": {
      "text/plain": [
       "[1, 2, 3, 4, 5, 6, 7, 8, 9, 10]"
      ]
     },
     "execution_count": 1,
     "metadata": {},
     "output_type": "execute_result"
    }
   ],
   "source": [
    "L = [i for i in range(1,11)]"
   ]
  },
  {
   "cell_type": "code",
   "execution_count": 11,
   "metadata": {},
   "outputs": [
    {
     "name": "stdout",
     "output_type": "stream",
     "text": [
      "[5, 10, 15, 20, 25, 30, 35, 40, 45, 50]\n"
     ]
    }
   ],
   "source": [
    "l = [i for i in range(1,51) if i%5==0]\n",
    "print(l)"
   ]
  },
  {
   "cell_type": "code",
   "execution_count": 14,
   "metadata": {},
   "outputs": [
    {
     "data": {
      "text/plain": [
       "['apple', 'animal']"
      ]
     },
     "execution_count": 14,
     "metadata": {},
     "output_type": "execute_result"
    }
   ],
   "source": [
    "basket = ['apple', 'orange', 'animal', 'pear', 'orange', 'banana']\n",
    "my_fruit = ['apple', 'mange', 'animal' , 'kiwiw', 'banana']\n",
    "\n",
    "[fruit for fruit in my_fruit if fruit in basket and fruit.startswith('a')]"
   ]
  },
  {
   "cell_type": "code",
   "execution_count": 16,
   "metadata": {},
   "outputs": [
    {
     "name": "stdout",
     "output_type": "stream",
     "text": [
      "[3, 4, 5, 4, 3, 4, 5, 4]\n"
     ]
    }
   ],
   "source": [
    "l = [3,4,5,4]\n",
    "a = l.extend([3,4,5,4])\n",
    "print(l)"
   ]
  },
  {
   "cell_type": "code",
   "execution_count": 18,
   "metadata": {},
   "outputs": [
    {
     "data": {
      "text/plain": [
       "[[1, 2, 3], [2, 4, 6], [3, 6, 9]]"
      ]
     },
     "execution_count": 18,
     "metadata": {},
     "output_type": "execute_result"
    }
   ],
   "source": [
    "# Nested list \n",
    "[[i*j for i in range(1,4)] for j in range(1,4)]  "
   ]
  },
  {
   "cell_type": "code",
   "execution_count": 27,
   "metadata": {},
   "outputs": [
    {
     "data": {
      "text/plain": [
       "[4, 6, 8]"
      ]
     },
     "execution_count": 27,
     "metadata": {},
     "output_type": "execute_result"
    }
   ],
   "source": [
    "# cartesian product\n",
    "l = [2,3,4,5]\n",
    "m = [2,3,4]\n",
    "list(zip(l,m))\n",
    "[i+j for i,j in zip(l,m) if i==j]"
   ]
  },
  {
   "cell_type": "code",
   "execution_count": null,
   "metadata": {},
   "outputs": [],
   "source": [
    "git remote set-url origin \"git@github.com:Hamzajani153/DSMP.git\""
   ]
  },
  {
   "cell_type": "markdown",
   "metadata": {},
   "source": [
    "### Set\n",
    "\n",
    "A set is an unordered collection of an item. <br>\n",
    "UNIQUE <br>\n",
    "IMMUTABLE <br>\n",
    "How ever set itself is mutable. We can add or remove item from it. Means set itself is mutable but we cannot add or use any mutable inside it. <br> \n",
    "Perfrom methemetical operation using set.\n"
   ]
  },
  {
   "cell_type": "markdown",
   "metadata": {},
   "source": [
    "We cannot use index wise or item wise operation with set."
   ]
  },
  {
   "cell_type": "code",
   "execution_count": 37,
   "metadata": {},
   "outputs": [
    {
     "name": "stdout",
     "output_type": "stream",
     "text": [
      "{(4, 5), 3, 4, 5}\n"
     ]
    }
   ],
   "source": [
    "s = {3,4,5,5,(4,5)}\n",
    "print(s)"
   ]
  },
  {
   "cell_type": "markdown",
   "metadata": {},
   "source": [
    "### Frozenset\n",
    "\n",
    "Frozen set is just an immutable version of a python set object."
   ]
  },
  {
   "cell_type": "code",
   "execution_count": 40,
   "metadata": {},
   "outputs": [
    {
     "name": "stdout",
     "output_type": "stream",
     "text": [
      "<class 'frozenset'>\n"
     ]
    }
   ],
   "source": [
    "fr = frozenset([3,4,5,5,(4,5)])\n",
    "print(type(fr))"
   ]
  },
  {
   "cell_type": "markdown",
   "metadata": {},
   "source": [
    "## Dictionary\n",
    "\n",
    "Dictionary is a collection of key values, used to store data like a map , which unlike other datatype which hold only a single value as an element.\n",
    "\n",
    "In some other language it is known as map or associative array.\n",
    "\n",
    "### Characteristics\n",
    "\n",
    "Mutable <br>\n",
    "Indexing has no meanng <br>\n",
    "keys can't be duplicate <br>\n",
    "keys can't be mutable item."
   ]
  },
  {
   "cell_type": "code",
   "execution_count": 56,
   "metadata": {},
   "outputs": [
    {
     "name": "stdout",
     "output_type": "stream",
     "text": [
      "{1: 'apple', 2: 'orange', 3: 'banana', 'subject': {'dsa': 34, 'coal': 99, 'web': 89}}\n"
     ]
    }
   ],
   "source": [
    "dict = {1: 'apple', 2: 'orange', 3: 'banana','subject':{\"dsa\":34,\"coal\":99}}\n",
    "dict['subject'][\"web\"] = 89\n",
    "print(dict)\n"
   ]
  },
  {
   "cell_type": "code",
   "execution_count": 67,
   "metadata": {},
   "outputs": [
    {
     "name": "stdout",
     "output_type": "stream",
     "text": [
      "name\n",
      "gender\n",
      "age\n"
     ]
    }
   ],
   "source": [
    "# Loops in dictionary\n",
    "\n",
    "d = {'name': 'John','gender':'male','age': 23}\n",
    "for key in d:\n",
    "    print(key)\n",
    "\n",
    "\n"
   ]
  },
  {
   "cell_type": "markdown",
   "metadata": {},
   "source": [
    "### Dictionary comprehension\n",
    "\n",
    "{key:value for vars in iterable}\n"
   ]
  },
  {
   "cell_type": "code",
   "execution_count": 71,
   "metadata": {},
   "outputs": [
    {
     "data": {
      "text/plain": [
       "{'lahore': 340.0, 'tokyo': 797.3000000000001}"
      ]
     },
     "execution_count": 71,
     "metadata": {},
     "output_type": "execute_result"
    }
   ],
   "source": [
    "dict = {'lahore':1000 , 'tokyo' :2345}\n",
    "{key:value*0.34 for (key,value) in dict.items()}"
   ]
  },
  {
   "cell_type": "code",
   "execution_count": 72,
   "metadata": {},
   "outputs": [
    {
     "data": {
      "text/plain": [
       "{2: {1: 2, 2: 4, 3: 6, 4: 8, 5: 10, 6: 12, 7: 14, 8: 16, 9: 18, 10: 20},\n",
       " 3: {1: 3, 2: 6, 3: 9, 4: 12, 5: 15, 6: 18, 7: 21, 8: 24, 9: 27, 10: 30},\n",
       " 4: {1: 4, 2: 8, 3: 12, 4: 16, 5: 20, 6: 24, 7: 28, 8: 32, 9: 36, 10: 40}}"
      ]
     },
     "execution_count": 72,
     "metadata": {},
     "output_type": "execute_result"
    }
   ],
   "source": [
    "# Nested Dictionary \n",
    "\n",
    "# print table of number 2 to 4\n",
    "\n",
    "{i:{j:i*j for j in range(1,11)} for i in range(2,5)} "
   ]
  },
  {
   "cell_type": "markdown",
   "metadata": {},
   "source": [
    "# OOP"
   ]
  },
  {
   "cell_type": "markdown",
   "metadata": {},
   "source": [
    "Classes and Objects <br>\n",
    "classes are blueprint it calls whenever the object is create. <br>\n",
    "class variables , instance variables. <br>\n",
    "\n",
    "### Constructor \n",
    "\n",
    "Constructor is a special type of function whenever the object is created it executed.\n",
    "\n",
    "what is the need of constructor ? <br>\n",
    "Basically constructor in which we write configuration related code we cannot give authority to the user it execute when the obj is create so we give not give this functionality to the user.\n",
    "\n",
    "### Self\n",
    "\n",
    "one method call the another mehtod of same class than self is use. Bcz self is the only way which interact the one method to another.\n",
    "\n",
    "### Special Method (dunder method)\n",
    "\n",
    "Every special method has some unique functionality e.g __str__ it used whenever we print our object.\n"
   ]
  }
 ],
 "metadata": {
  "kernelspec": {
   "display_name": "numberplate",
   "language": "python",
   "name": "python3"
  },
  "language_info": {
   "codemirror_mode": {
    "name": "ipython",
    "version": 3
   },
   "file_extension": ".py",
   "mimetype": "text/x-python",
   "name": "python",
   "nbconvert_exporter": "python",
   "pygments_lexer": "ipython3",
   "version": "3.11.6"
  }
 },
 "nbformat": 4,
 "nbformat_minor": 2
}
