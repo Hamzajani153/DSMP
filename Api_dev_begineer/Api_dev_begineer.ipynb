{
 "cells": [
  {
   "cell_type": "markdown",
   "metadata": {},
   "source": [
    "## Fast Api"
   ]
  },
  {
   "cell_type": "code",
   "execution_count": null,
   "metadata": {},
   "outputs": [],
   "source": [
    "# Get request\n",
    "\n",
    "@app.get(\"/\")\n",
    "def read_root():\n",
    "    return {\"Hello\": \"World\"}"
   ]
  },
  {
   "cell_type": "markdown",
   "metadata": {},
   "source": [
    "## Post Request "
   ]
  },
  {
   "cell_type": "code",
   "execution_count": null,
   "metadata": {},
   "outputs": [],
   "source": [
    "# Firstly when we use post reqest it help us to create a new data in the server.\n",
    "# Simple post request which have no data than it behave like get but we need to send and receive data \n",
    "# that's why se use post request. So we send the data in the body of the request and we receive the data in the body of the response.\n",
    "\n",
    "@app.post(\"/items/\")\n",
    "def create_item():\n",
    "    return {\"hello\" : \"world\"}\n"
   ]
  },
  {
   "cell_type": "markdown",
   "metadata": {},
   "source": [
    "Data Extract from the body of the payload"
   ]
  },
  {
   "cell_type": "code",
   "execution_count": null,
   "metadata": {},
   "outputs": [],
   "source": [
    "@app.post(\"/add\")\n",
    "def create_post(payload: dict = Body(...)):\n",
    "    print(payload)\n",
    "    return {\"message\": \"Data received\"}"
   ]
  },
  {
   "cell_type": "markdown",
   "metadata": {},
   "source": [
    "Here we extract the data and send it back from the request"
   ]
  },
  {
   "cell_type": "code",
   "execution_count": null,
   "metadata": {},
   "outputs": [],
   "source": [
    "# how to send data in a body of a post request and also extract that data from the body.\n",
    "# normally we store that data in the database.\n",
    "@app.post(\"/new_post\")\n",
    "def create_post(payload: dict = Body(...)):\n",
    "    print(payload)\n",
    "    return {\"new_post\": f\"title {payload['title']} content: {payload['content']}\"}\n",
    "\n",
    "# Here issue is that client send any data they want to send. So we need to validate the data before storing it in the database.\n",
    "# that's why we use pydantic model to validate the data."
   ]
  },
  {
   "cell_type": "markdown",
   "metadata": {},
   "source": [
    "Why we need schema \n",
    "\n",
    "It's pain to get all the values from the body. <br>\n",
    "The client can send whatever data they want. <br>\n",
    "The data isn't getting validated. <br>\n",
    "We ultimately want to force the client to send data in a schema that we expect. <br>"
   ]
  },
  {
   "cell_type": "markdown",
   "metadata": {},
   "source": [
    "For that we use library called pydantic it validate our data ."
   ]
  },
  {
   "cell_type": "code",
   "execution_count": null,
   "metadata": {},
   "outputs": [],
   "source": [
    "class Post(BaseModel):\n",
    "    title: str\n",
    "    content: str\n",
    "    published: bool = True\n",
    "    rating: Optional[int] = None\n",
    "\n",
    "@app.post(\"/new_post\")\n",
    "def create_post(new_post:Post):\n",
    "    print(new_post)\n",
    "    return{\"new\" :\"post_created\"}"
   ]
  },
  {
   "cell_type": "markdown",
   "metadata": {},
   "source": [
    "We use pydantic model_dump/ dict to convert the body data into dictionary"
   ]
  },
  {
   "cell_type": "code",
   "execution_count": null,
   "metadata": {},
   "outputs": [],
   "source": [
    "# Now work with api to retrieve post \n",
    "# In fast api when we send array data to it it gonna serialize it on way means it convert \n",
    "# array into a json format.\n",
    "\n",
    "new_posts = [{\"title\": \"post1\", \"content\": \"content1\",\"id\":1},\n",
    "             {\"title\": \"post2\", \"content\": \"content2\",\"id\":2}]\n",
    "\n",
    "@app.get(\"/posts\")\n",
    "def get_posts():\n",
    "    return {\"posts\": new_posts}"
   ]
  },
  {
   "cell_type": "code",
   "execution_count": null,
   "metadata": {},
   "outputs": [],
   "source": [
    "# This method is used to update the post in the database. Here we have no db that's why we \n",
    "# use list to append it with unique id.\n",
    "\n",
    "@app.post(\"/new_posts\")\n",
    "def create_new_post(post: Post):\n",
    "    post_dict = post.dict()\n",
    "    post_dict['id'] = randrange(0,100000)\n",
    "    new_posts.append(post_dict)\n",
    "    print(new_posts)\n",
    "    return {\"data\": post_dict}"
   ]
  },
  {
   "cell_type": "markdown",
   "metadata": {},
   "source": [
    "### Path parameter"
   ]
  },
  {
   "cell_type": "code",
   "execution_count": null,
   "metadata": {},
   "outputs": [],
   "source": [
    "\n",
    "@app.get(\"/posts/{post_id}\")\n",
    "def get_post(post_id: int):\n",
    "    return {\"post\": f\"here is post {post_id}\"}"
   ]
  },
  {
   "cell_type": "code",
   "execution_count": null,
   "metadata": {},
   "outputs": [],
   "source": [
    "# no need to hard code the error value use http exception to handle the error.\n",
    "\n",
    "\n",
    "@app.get(\"/posts/{post_id}\")\n",
    "def get_post(post_id: int , response: Response):\n",
    "    post = find_post(post_id)\n",
    "    if not post:\n",
    "        raise HTTPException(status_code=status.HTTP_404_NOT_FOUND, \n",
    "                            detail=f\"post with id {post_id} not found\")\n",
    "        # response.status_code = status.HTTP_404_NOT_FOUND\n",
    "        # return {\"detail\": f\"post with id {post_id} not found\"}\n",
    "    return {\"post\": f\"here is post {post}\"}"
   ]
  },
  {
   "cell_type": "markdown",
   "metadata": {},
   "source": [
    "## Delete Post"
   ]
  },
  {
   "cell_type": "code",
   "execution_count": null,
   "metadata": {},
   "outputs": [],
   "source": [
    "@app.delete(\"/posts/{post_id}\")\n",
    "def post_delete(post_id: int):\n",
    "    index = find_index_post(post_id)    \n",
    "    new_posts.pop(index) # type: ignore\n",
    "    return {\"message\": \"post deleted successfully\"}\n",
    "\n",
    "here we use http 204 status code to show that the post is deleted successfully. But this error msg\n",
    "is not returned any message.\n",
    "\n",
    "@app.delete(\"/posts/{post_id}\")\n",
    "def post_delete(post_id: int):\n",
    "    index = find_index_post(post_id)    \n",
    "    new_posts.pop(index) # type: ignore\n",
    "    return Response(status_code=status.HTTP_204_NO_CONTENT)"
   ]
  },
  {
   "cell_type": "markdown",
   "metadata": {},
   "source": [
    "## Update Method (PUT)"
   ]
  },
  {
   "cell_type": "code",
   "execution_count": null,
   "metadata": {},
   "outputs": [],
   "source": [
    "# In this put mehtod we receive data from the front end we store it in post variable and then \n",
    "# we find the index of the post and then we update the post in the list.\n",
    "\n",
    "@app.put(\"/posts/{post_id}\")\n",
    "def update_post(post_id: int, post: Post):\n",
    "    index = find_index_post(post_id)\n",
    "    if index is None:\n",
    "        raise HTTPException(status_code=status.HTTP_404_NOT_FOUND, \n",
    "                            detail=f\"post with id: {post_id} not found\")\n",
    "    post_dict = post.dict()\n",
    "    post_dict['id'] = post_id\n",
    "    new_posts[index] = post_dict\n",
    "    return {\"message\": \"post updated successfully\"}\n"
   ]
  },
  {
   "cell_type": "markdown",
   "metadata": {},
   "source": [
    "## Database (postgres)\n",
    "\n"
   ]
  },
  {
   "cell_type": "markdown",
   "metadata": {},
   "source": [
    "Here we can established a new connection to the database."
   ]
  },
  {
   "cell_type": "code",
   "execution_count": null,
   "metadata": {},
   "outputs": [],
   "source": [
    "# This is the hard code value which is given which is not a good practice so we can convert in to \n",
    "# dynamic value.\n",
    "\n",
    "    try:\n",
    "        conn = psycopg2.connect(host=\"localhost\",database=\"fastapi\",user=\"postgres\",\n",
    "                                password=\"Pk135430\",cursor_factory=RealDictCursor)\n",
    "        curr = conn.cursor()\n",
    "        print(\"Database connected successfully\")\n",
    "        break\n",
    "    except Exception as e:\n",
    "        print(\"Database connection error\")\n",
    "        print(f\"Error: {e}\")\n",
    "        time.sleep(5)\n"
   ]
  },
  {
   "cell_type": "markdown",
   "metadata": {},
   "source": [
    "Here we can enter data into the database and than commit it."
   ]
  },
  {
   "cell_type": "code",
   "execution_count": null,
   "metadata": {},
   "outputs": [],
   "source": [
    "@app.post(\"/new_posts\", status_code= status.HTTP_201_CREATED)\n",
    "def create_new_post(post: Post):\n",
    "    \n",
    "    # This is work but this can cause a sql injection probelem which attacker is used.\n",
    "    # curr.execute(f\"\"\"INSERT INTO post (title, content) VALUES ('{post.title}', '{post.content}')\"\"\")\n",
    "    # so we use\n",
    "    curr.execute(\"\"\"INSERT INTO post (title, content,published) VALUES (%s, %s,%s) \n",
    "                 RETURNING *\"\"\",(post.title, post.content,post.published))\n",
    "    new_post = curr.fetchone()\n",
    "    conn.commit()\n",
    "    return {\"new_post\": new_post}\n",
    "    "
   ]
  },
  {
   "cell_type": "markdown",
   "metadata": {},
   "source": [
    "Fetching an individual by an id"
   ]
  },
  {
   "cell_type": "code",
   "execution_count": null,
   "metadata": {},
   "outputs": [],
   "source": []
  }
 ],
 "metadata": {
  "kernelspec": {
   "display_name": "db-fastapi-g2ggb5qr-py3.11",
   "language": "python",
   "name": "python3"
  },
  "language_info": {
   "name": "python",
   "version": "3.11.4"
  }
 },
 "nbformat": 4,
 "nbformat_minor": 2
}
